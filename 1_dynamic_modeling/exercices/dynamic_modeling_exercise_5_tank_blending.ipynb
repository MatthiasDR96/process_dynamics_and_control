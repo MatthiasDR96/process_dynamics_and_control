{
 "cells": [
  {
   "cell_type": "markdown",
   "metadata": {},
   "source": [
    "# Tank Blending\n",
    "\n",
    "Create a dynamic model of concentration and temperature based on a physics-based derivation from species and energy balance equations. A mixing tank has a liquid inlet stream and outlet stream. The tank is well mixed so the concentration and temperature are assumed to be the same throughout the reactor.\n",
    "\n",
    "<img src=\"../pictures/mixer_schematic.png\" width=\"500\">\n",
    "\n",
    "Start with the species and energy balance equations and derive the dynamic concentration and temperature response. Develop the concentration response and then add the temperature response. Assume a constant volume V of 100 m3 and an inlet flow rate $\\dot{V}$ or q of 100 m3/hr."
   ]
  },
  {
   "cell_type": "markdown",
   "metadata": {},
   "source": [
    "### Solution\n",
    "The first objective is to predict the concentration of A over a simulation time horizon. A species balance is created by relating the accumulation, inlet, and outlet terms of the number of moles n of species A. The accumulation of A, d(nA)/dt, in a control volume is calculated by inlet, outlet, reaction generation, and reaction consumption rates.\n",
    "\n",
    "$$\\frac{dn_A}{dt} = \\sum \\dot n_{A_{in}} - \\sum \\dot n_{A_{out}} + \\sum \\dot n_{A_{gen}} - \\sum \\dot n_{A_{cons}}$$\n",
    "\n",
    "The molar amount, nA is often measured as a concentration, cA. In this application there are no reaction terms so the species balance can be simplified.\n",
    "\n",
    "$$\\frac{dc_A V}{dt} = c_{A_{in}} \\dot V_{in} - c_{A_{out}} \\dot V_{out}$$"
   ]
  },
  {
   "cell_type": "code",
   "execution_count": 7,
   "metadata": {},
   "outputs": [
    {
     "data": {
      "image/png": "[encoded data removed]",
      "text/plain": [
       "<Figure size 432x288 with 1 Axes>"
      ]
     },
     "metadata": {
      "needs_background": "light"
     },
     "output_type": "display_data"
    }
   ],
   "source": [
    "# Import modules\n",
    "import numpy as np\n",
    "import matplotlib.pyplot as plt\n",
    "from scipy.integrate import odeint\n",
    "\n",
    "# define mixing model\n",
    "def mixer(x,t,Tf,Caf):\n",
    "\n",
    "    # Inputs (2):\n",
    "    Ca = x[0]\n",
    "\n",
    "    # Parameters:\n",
    "    q = 100\n",
    "    V = 100\n",
    "\n",
    "    # Calculate concentration derivative\n",
    "    dCadt = q/V * (Caf - Ca)\n",
    "\n",
    "    return dCadt\n",
    "\n",
    "# Initial Condition\n",
    "Ca0 = 0.0\n",
    "Tf = 300\n",
    "Caf = 1\n",
    "\n",
    "# Time span\n",
    "t = np.linspace(0,10,100)\n",
    "\n",
    "# Simulate mixer\n",
    "Ca = odeint(mixer,Ca0,t,args=(Tf,Caf))\n",
    "\n",
    "# Construct results and save data file\n",
    "# Column 1 = time\n",
    "# Column 2 = concentration\n",
    "data = np.vstack((t,Ca.T)) # vertical stack\n",
    "data = data.T             # transpose data\n",
    "np.savetxt('../data/data.txt',data,delimiter=',')\n",
    "\n",
    "# Plot the results\n",
    "plt.plot(t,Ca,'r-',linewidth=3)\n",
    "plt.ylabel('Ca (mol/L)')\n",
    "plt.legend(['Concentration'],loc='best')\n",
    "plt.xlabel('Time (hr)')\n",
    "plt.show()"
   ]
  },
  {
   "cell_type": "markdown",
   "metadata": {},
   "source": [
    "### Add energy balance\n",
    "\n",
    "An energy balance for this application starts with the balance equation for enthalpy, h. Enthalpy is related to temperature as $m*c_{p}(T-T_{ref})$ where $c_{p}$ is the heat capacity. With a constant reference temperature ($T_{ref}$), this reduces to the following.\n",
    "\n",
    "$$m\\,c_p\\frac{dT}{dt} = \\sum \\dot m_{in} c_p \\left( T_{in} - T_{ref} \\right) - \\sum \\dot m_{out} c_p \\left( T_{out} - T_{ref} \\right) + Q + W_s$$\n",
    "\n",
    "\n",
    "There is no heat input $Q$, shaft work $W_{s}$, or reaction. Reduce this energy balance by eliminating any terms and simplifying the expression. Implement the additional energy balance equation and simulate a feed temperature change from 350 K to 300 K. The tank fluid is initially at 350 K. The liquid heat capacity is constant and does not depend on the concentration of A."
   ]
  },
  {
   "cell_type": "code",
   "execution_count": 10,
   "metadata": {},
   "outputs": [
    {
     "data": {
      "image/png": "[encoded data removed]",
      "text/plain": [
       "<Figure size 432x288 with 2 Axes>"
      ]
     },
     "metadata": {
      "needs_background": "light"
     },
     "output_type": "display_data"
    }
   ],
   "source": [
    "# Import modules\n",
    "import numpy as np\n",
    "import matplotlib.pyplot as plt\n",
    "from scipy.integrate import odeint\n",
    "\n",
    "# define mixing model\n",
    "def mixer(x,t,Tf,Caf):\n",
    "\n",
    "    # Inputs (2):\n",
    "    Ca = x[0]\n",
    "    T = x[1]\n",
    "\n",
    "    # Parameters:\n",
    "    q = 100\n",
    "    V = 100\n",
    "\n",
    "    # Calculate concentration derivative\n",
    "    dCadt = q/V * (Caf - Ca)\n",
    "    dTdt = q/V * (Tf - T)\n",
    "\n",
    "    return [dCadt, dTdt]\n",
    "\n",
    "# Initial Condition\n",
    "Ca0 = 0.0\n",
    "T0 = 350\n",
    "Tf = 300\n",
    "Caf = 1\n",
    "\n",
    "# Time span\n",
    "t = np.linspace(0,10,100)\n",
    "\n",
    "# Simulate mixer\n",
    "y = odeint(mixer,[Ca0, T0],t,args=(Tf,Caf))\n",
    "\n",
    "# Construct results and save data file\n",
    "# Column 1 = time\n",
    "# Column 2 = concentration\n",
    "data = np.vstack((t,y[:,0].T,y[:,1].T)) # vertical stack\n",
    "data = data.T             # transpose data\n",
    "np.savetxt('../data/data.txt',data,delimiter=',')\n",
    "\n",
    "# Plot the results\n",
    "plt.figure()\n",
    "plt.subplot(2, 1, 1)\n",
    "plt.plot(t,y[:,0],'r-',linewidth=3)\n",
    "plt.ylabel('Ca (mol/L)')\n",
    "plt.legend(['Concentration'],loc='best')\n",
    "plt.xlabel('Time (hr)')\n",
    "plt.subplot(2, 1, 2)\n",
    "plt.plot(t,y[:,1],'b--',linewidth=3)\n",
    "plt.ylabel('T (K)')\n",
    "plt.legend(['Temperature'],loc='best')\n",
    "plt.xlabel('Time (hr)')\n",
    "plt.show()"
   ]
  }
 ],
 "metadata": {
  "interpreter": {
   "hash": "e7c37ba80a6e54a3d63188245ab5de6a3e0d381993bcb1990a7020536fc2299e"
  },
  "kernelspec": {
   "display_name": "Python 3.6.4 64-bit",
   "language": "python",
   "name": "python3"
  },
  "language_info": {
   "codemirror_mode": {
    "name": "ipython",
    "version": 3
   },
   "file_extension": ".py",
   "mimetype": "text/x-python",
   "name": "python",
   "nbconvert_exporter": "python",
   "pygments_lexer": "ipython3",
   "version": "3.6.4"
  },
  "orig_nbformat": 4
 },
 "nbformat": 4,
 "nbformat_minor": 2
}
