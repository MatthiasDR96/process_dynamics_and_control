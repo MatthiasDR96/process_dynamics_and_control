{
 "cells": [
  {
   "cell_type": "markdown",
   "metadata": {},
   "source": [
    "# Introduction\n",
    "\n",
    "Dynamic models are essential for understanding the system dynamics in open-loop (manual mode) or for closed-loop (automatic) control. These models are either derived from data (empirical) or from more fundamental relationships (first principles, physics-based) that rely on knowledge of the process. A combination of the two approaches is often used in practice where the form of the equations are developed from fundamental balance equations and unknown or uncertain parameters are adjusted to fit process data.\n",
    "\n",
    "In engineering, there are 4 common balance equations from conservation principles including mass, momentum, energy, and species (see Balance Equations). An alternative to physics-based models is to use input-output data to develop empirical dynamic models such as first-order or second-order systems."
   ]
  },
  {
   "cell_type": "markdown",
   "metadata": {},
   "source": [
    "### Steps in Dynamic Modeling\n",
    "The following are general guidelines for developing a dynamic model. The process is iterative as simulation results help inform modeling assumptions or correct errors in the dynamic balance equations.\n",
    "\n",
    "* Identify objective for the simulation\n",
    "* Draw a schematic diagram, labeling process variables\n",
    "* List all assumptions\n",
    "* Determine spatial dependence\n",
    "  * yes = Partial Differential Equation (PDE)\n",
    "  * no = Ordinary Differential Equation (ODE)\n",
    "* Write dynamic balances (mass, species, energy)\n",
    "* Other relations (thermo, reactions, geometry, etc.)\n",
    "* Degrees of freedom, does number of equations = number of unknowns?\n",
    "* Classify inputs as\n",
    "  * Fixed values\n",
    "  * Disturbances\n",
    "  * Manipulated variables\n",
    "* Classify outputs as\n",
    "  * States\n",
    "  * Controlled variables\n",
    "* Simplify balance equations based on assumptions\n",
    "* Simulate steady state conditions (if possible)\n",
    "* Simulate the output with an input step"
   ]
  },
  {
   "cell_type": "markdown",
   "metadata": {},
   "source": [
    "### Example \n",
    "\n",
    "Consider a cylindrical tank with no outlet flow and an adjustable inlet flow. The inlet flow rate is not measured but there is a level measurement that shows how much fluid has been added to the tank. The objective of this exercise is to develop a model that can maintain a certain water level by automatically adjusting the inlet flow rate. \n",
    "\n",
    "<img src=\"pictures/tank_model_no_outlet.png\" width=\"200\">\n",
    "\n",
    "\n",
    "A first step is to develop a dynamic model of how the inlet flow rate affects the level in the tank. A starting point for this model is a balance equation.\n",
    "\n",
    "$$\\frac{dm}{dt}=\\dot{m}_{in} − \\dot{m}_{out}$$\n",
    "\n",
    "The accumulation term is a differential variable such as $dm/dt$ for mass. In this case, the accumulation of mass is equal to only an inlet flow and no outlet, generation, or consumption terms."
   ]
  },
  {
   "cell_type": "markdown",
   "metadata": {},
   "source": [
    "### Assumptions\n",
    "The next objective is to simplify the expression and transform it into a relationship between height $h$ and the valve opening $u$ (0-100%). For liquid water, density is nearly constant even over wide temperature ranges and the mass is equal to the density multiplied by the volume $V$. Assuming a constant cross-sectional area gives $V = hA$ and a linear correlation between valve opening and inlet flow gives the following relationship.\n",
    "\n",
    "$$ ρA\\frac{dh}{dt} = cu \\quad{} \\text{with} \\quad{} \\dot{m}_{in}=cu$$\n",
    "\n",
    "where $c$ is a constant that relates valve opening to inlet flow."
   ]
  },
  {
   "cell_type": "markdown",
   "metadata": {},
   "source": [
    "### Problem\n",
    "Simulate the height of the tank by integrating the mass balance equation for a period of 10 seconds. The valve opens to 100% at $t=2s$ and shuts at $t=7s$. Use a value of $1000$ kg/m3 for density and $1.0$ m2 for the cross-sectional area of the tank. For the valve, assume a valve coefficient of $c=50.0$ (kg/s / %open)."
   ]
  },
  {
   "cell_type": "code",
   "execution_count": 9,
   "metadata": {},
   "outputs": [],
   "source": [
    "# Import modules\n",
    "import numpy as np\n",
    "import matplotlib.pyplot as plt\n",
    "from scipy.integrate import odeint"
   ]
  },
  {
   "cell_type": "code",
   "execution_count": 10,
   "metadata": {},
   "outputs": [],
   "source": [
    "# Define tank model\n",
    "def tank(Level,time,c,valve):\n",
    "    rho = 1000.0 # water density (kg/m^3)\n",
    "    A = 1.0      # tank area (m^2)\n",
    "    dLevel_dt = (c/(rho*A)) * valve # calculate derivative of the Level\n",
    "    return dLevel_dt"
   ]
  },
  {
   "cell_type": "code",
   "execution_count": 11,
   "metadata": {},
   "outputs": [],
   "source": [
    "# Time span for the simulation for 10 sec, every 0.1 sec\n",
    "ts = np.linspace(0,10,101)"
   ]
  },
  {
   "cell_type": "code",
   "execution_count": 12,
   "metadata": {},
   "outputs": [],
   "source": [
    "# Valve operation\n",
    "c = 50.0          # valve coefficient (kg/s / %open)\n",
    "u = np.zeros(101) # u = valve % open\n",
    "u[21:70] = 100.0  # open valve between 2 and 7 seconds"
   ]
  },
  {
   "cell_type": "code",
   "execution_count": 13,
   "metadata": {},
   "outputs": [],
   "source": [
    "# Level initial condition\n",
    "Level0 = 0"
   ]
  },
  {
   "cell_type": "code",
   "execution_count": 14,
   "metadata": {},
   "outputs": [],
   "source": [
    "# For storing the results\n",
    "z = np.zeros(101)"
   ]
  },
  {
   "cell_type": "code",
   "execution_count": 15,
   "metadata": {},
   "outputs": [],
   "source": [
    "# Simulate with ODEINT\n",
    "for i in range(100):\n",
    "    valve = u[i+1]\n",
    "    y = odeint(tank,Level0,[0,0.1],args=(c,valve))\n",
    "    Level0 = y[-1] # take the last point\n",
    "    z[i+1] = Level0 # store the level for plotting"
   ]
  },
  {
   "cell_type": "code",
   "execution_count": 16,
   "metadata": {},
   "outputs": [
    {
     "data": {
      "image/png": "[encoded data removed]",
      "text/plain": [
       "<Figure size 432x288 with 2 Axes>"
      ]
     },
     "metadata": {
      "needs_background": "light"
     },
     "output_type": "display_data"
    }
   ],
   "source": [
    "# Plot results\n",
    "plt.figure()\n",
    "plt.subplot(2,1,1)\n",
    "plt.plot(ts,z,'b-',linewidth=3)\n",
    "plt.ylabel('Tank Level')\n",
    "plt.subplot(2,1,2)\n",
    "plt.plot(ts,u,'r--',linewidth=3)\n",
    "plt.ylabel('Valve')    \n",
    "plt.xlabel('Time (sec)')\n",
    "plt.show()"
   ]
  }
 ],
 "metadata": {
  "interpreter": {
   "hash": "e7c37ba80a6e54a3d63188245ab5de6a3e0d381993bcb1990a7020536fc2299e"
  },
  "kernelspec": {
   "display_name": "Python 3.6.4 64-bit",
   "language": "python",
   "name": "python3"
  },
  "language_info": {
   "codemirror_mode": {
    "name": "ipython",
    "version": 3
   },
   "file_extension": ".py",
   "mimetype": "text/x-python",
   "name": "python",
   "nbconvert_exporter": "python",
   "pygments_lexer": "ipython3",
   "version": "3.6.4"
  },
  "orig_nbformat": 4
 },
 "nbformat": 4,
 "nbformat_minor": 2
}
