{
 "cells": [
  {
   "cell_type": "markdown",
   "metadata": {},
   "source": [
    "# Introduction\n",
    "\n",
    "The areas of simulation, estimation, control, and optimization all rely on process models. One key to integration is the development of software tools that can solve large-scale, complex models efficiently.\n",
    "\n",
    "<img src=\"pictures/frequency.png\">"
   ]
  },
  {
   "cell_type": "markdown",
   "metadata": {},
   "source": [
    "### Simulation\n",
    "The objective of process simulation is to create a virtual process that can be investigated or manipulated to give desirable results. Some common objectives of simulation activities are:\n",
    "\n",
    "* Development of better designs that incorporate life cycle features of the process\n",
    "* Reduction of design time and engineering effort\n",
    "* Maximize profitability while observing environmental constraints\n",
    "* Ease of control and operation\n",
    "\n",
    "Because process parameters are rarely exactly known, the design under uncertainty gives a method to address probabilities. While process simulation often provides an single answer, design under uncertainty provides aides in decision making with imperfect information."
   ]
  },
  {
   "cell_type": "markdown",
   "metadata": {},
   "source": [
    "### Estimation\n",
    "\n",
    "Estimation is the alignment of a process model with actual process measurements. This can be accomplished by adjusting model parameters or current state estimates. For linear models, the Kalman filter is a popular choice because of low computational requirements and ease of implementation. Moving Horizon Estimation (MHE), on the other hand, is an optimization approach that better handles problems with:\n",
    "\n",
    "* Constraints\n",
    "* Nonlinear Models\n",
    "* Infrequent Measurements\n",
    "* Explicit Measurement Ranking\n",
    "* Statistically Insignificant Noise and Outliers\n",
    "\n",
    "Results of the estimation may also include a probability distribution of the current process state. This distribution may be in the form of a single statistical figure or as a population of probable outcomes."
   ]
  },
  {
   "cell_type": "markdown",
   "metadata": {},
   "source": [
    "### Control\n",
    "\n",
    "Process control has evolved into a strong discipline in process systems engineering. Traditionally this has been characterized by single loop PID controllers with incremental advances that lead to advanced elements in the control system. More recently, concepts from optimization, mathematical analysis and nonlinear dynamics have played important roles in developing more efficient and superior control strategies.\n",
    "\n",
    "##### Model Predictive Control (MPC)\n",
    "Developed in the late 70s, MPC has shown significant advantages over structured PID control loops and has become the most widely used multivariable control strategy in industry. This approach is a generic strategy applied to large classes of unit operations, but was developed only with linear process models (usually derived empirically). Only recently have theoretical properties of these controllers been developed. Moreover, the discovery of many interesting properties for control and identification has led to direct results in tuning and design of these control systems in industry.\n",
    "\n",
    "##### Nonlinear Control (NLC)\n",
    "All processes are nonlinear and in many cases, linear model-based controllers are no longer satisfactory. To deal with this, geometric linearization strategies have been developed and lead to powerful insights in the design of control structures. Moreover, model predictive control can also be extended directly to deal with nonlinear dynamic models. Again, properties relating to the stability, robustness and performance of these controllers still need to be explored. Also, industry has had significant successes with these controllers on batch and semi-continuous processes."
   ]
  },
  {
   "cell_type": "markdown",
   "metadata": {},
   "source": [
    "### Optimization\n",
    "\n",
    "Improvements can be found through on-line optimization of a process, scheduling of operating strategies, changeovers and interactions between different processes, and overall planning of product productions to meet market demands.\n",
    "\n",
    "##### On-line Optimization (Hourly/Daily)\n",
    "With changes in pricing structures or product demands it is often advantageous to optimize steady state models on-line. This leads to processes that can adapt to daily fluctuations in inputs and uncertainties. The current challenge is to deal with dynamic models in addition to steady state cases and also to provide a tighter coupling to the process control system.\n",
    "\n",
    "##### Process Scheduling (Weekly)\n",
    "Scheduling of batch and continuous processes can have a major impact on the overall profitability of a process, as well as on the timely delivery of products. Major problems include sequencing, scheduling of equipment utilization and maintenance over a planning horizon, and inventory considerations of a process. Such problems may pose difficult combinatorial optimization problems but also contribute to high payoffs. Moreover, the results of this task have a major impact on the local operation of the process, and strong interactions exist between the scheduling, design and operation of the process.\n",
    "\n",
    "##### Planning and Supply Chain Management (Yearly)\n",
    "Production planning and supply chain management provide the decision support systems for the logistics in the long range operation of networks of plants, and their coordination with marketing and business considerations. These problems give rise to very large multi-period optimization problems where a major challenge lies in the effective aggregation of more detailed scheduling and operational models."
   ]
  }
 ],
 "metadata": {
  "language_info": {
   "name": "python"
  },
  "orig_nbformat": 4
 },
 "nbformat": 4,
 "nbformat_minor": 2
}
