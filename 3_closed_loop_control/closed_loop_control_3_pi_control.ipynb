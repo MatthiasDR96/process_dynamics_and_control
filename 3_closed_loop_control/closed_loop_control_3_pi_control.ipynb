{
 "cells": [
  {
   "cell_type": "markdown",
   "metadata": {},
   "source": [
    "# Proportional Integral (PI) Control\n",
    "\n",
    "A variation of Proportional Integral Derivative (PID) control is to use only the proportional and integral terms as PI control. The PI controller is the most popular variation, even more than full PID controllers. The value of the controller output $u(t)$ is fed into the system as the manipulated variable input.\n",
    "\n",
    "$$e(t) = SP-PV$$\n",
    "\n",
    "$$u(t) = u_{bias} + K_c \\, e(t) + \\frac{K_c}{\\tau_I}\\int_0^t e(t)dt$$\n",
    "\n",
    "The $u_{bias}$ term is a constant that is typically set to the value of $u(t)$ when the controller is first switched from manual to automatic mode. This gives \"bumpless\" transfer if the error is zero when the controller is turned on. The two tuning values for a PI controller are the controller gain, $K_{c}$ and the integral time constant $\\tau_{I}$. The value of $K_{c}$ is a multiplier on the proportional error and integral term and a higher value makes the controller more aggressive at responding to errors away from the set point. The set point (SP) is the target value and process variable (PV) is the measured value that may deviate from the desired value. The error from the set point is the difference between the SP and PV and is defined as $e(t) = SP - PV$."
   ]
  },
  {
   "cell_type": "markdown",
   "metadata": {},
   "source": [
    "### Discrete PI Controller\n",
    "\n",
    "Digital controllers are implemented with discrete sampling periods and a discrete form of the PI equation is needed to approximate the integral of the error. This modification replaces the continuous form of the integral with a summation of the error and uses $\\Delta t$ as the time between sampling instances and $n_{t}$ as the number of sampling instances.\n",
    "\n",
    "$$u(t) = u_{bias} + K_c \\, e(t) + \\frac{K_c}{\\tau_I}\\sum_{i=1}^{n_t} e_i(t)\\Delta t$$"
   ]
  },
  {
   "cell_type": "markdown",
   "metadata": {},
   "source": [
    "### Overview of PI Control\n",
    "\n",
    "PI control is needed for non-integrating processes, meaning any process that eventually returns to the same output given the same set of inputs and disturbances. A P-only controller is best suited to integrating processes. Integral action is used to remove offset and can be thought of as an adjustable $u_{bias}$. Common tuning correlations for PI control are the ITAE (Integral of Time-weighted Absolute Error) method and IMC (Internal Model Control). IMC is an extension of lambda tuning by accounting for time delay. The parameters $K_{c}, \\tau_{p}$, and $\\theta_{p}$ are obtained by fitting dynamic input and output data to a first-order plus dead-time (FOPDT) model."
   ]
  }
 ],
 "metadata": {
  "language_info": {
   "name": "python"
  },
  "orig_nbformat": 4
 },
 "nbformat": 4,
 "nbformat_minor": 2
}
