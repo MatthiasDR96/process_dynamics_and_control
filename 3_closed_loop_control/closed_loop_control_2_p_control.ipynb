{
 "cells": [
  {
   "cell_type": "markdown",
   "metadata": {},
   "source": [
    "# Proportional-only Control\n",
    "\n",
    "A variation of Proportional Integral Derivative (PID) control is to use only the proportional term as a P-only control. The value of the controller output $u(t)$ is fed into the system as the manipulated variable input.\n",
    "\n",
    "$$u(t) = u_{bias} + K_c \\, \\left( SP-PV \\right) = u_{bias} + K_c \\, e(t)$$\n",
    "\n",
    "The $u_{bias}$ term is a constant that is typically set to the value of $u(t)$ when the controller is first switched from manual to automatic mode. This gives \"bumpless\" transfer if the error is zero when the controller is turned on. The one tuning value for a P-only controller is the controller gain, $K_{c}$. The value of $K_{c}$ is a multiplier on the error and a higher value makes the controller more aggressive at responding to any error away from the set point. The set point (SP) is the target value and process variable (PV) is the measured value that may deviate from the desired value. The error from the set point is the difference between the SP and PV and is defined as $e(t) = SP - PV$."
   ]
  },
  {
   "cell_type": "markdown",
   "metadata": {},
   "source": [
    "### Integrating versus Non-Integrating Processes\n",
    "\n",
    "The output of a non-integrating process returns to the same steady-state value after an input impulse response. An integrating process does not return to the same steady-state value after the impulse response."
   ]
  },
  {
   "cell_type": "code",
   "execution_count": 1,
   "metadata": {},
   "outputs": [
    {
     "data": {
      "image/png": "[encoded data removed]",
      "text/plain": [
       "<Figure size 432x288 with 2 Axes>"
      ]
     },
     "metadata": {
      "needs_background": "light"
     },
     "output_type": "display_data"
    }
   ],
   "source": [
    "import matplotlib.pyplot as plt\n",
    "import numpy as np\n",
    "\n",
    "# time\n",
    "t = np.linspace(0,10,101)\n",
    "\n",
    "# step functions\n",
    "s1 = np.zeros(101); s1[11:] = 1.0\n",
    "s2 = np.zeros(101); s2[51:] = 1.0\n",
    "\n",
    "# solution to non-integrating system\n",
    "# taup * dy/dt = -y + Kp * u\n",
    "du=2; Kp=1; taup=10\n",
    "y1 = Kp*(1-np.exp(-(t-1)/taup))*s1 \\\n",
    "    -Kp*(1-np.exp(-(t-5)/taup))*s2\n",
    "\n",
    "# solution to integrating system\n",
    "# dy/dt = Kp/taup * u\n",
    "y2 = (Kp/taup)*(t-1)*s1 \\\n",
    "    -(Kp/taup)*(t-5)*s2\n",
    "\n",
    "plt.figure(1)\n",
    "plt.subplot(2,1,1)\n",
    "plt.plot([0,1,1.001,5,5.001,10],\\\n",
    "         [0,0,du,du,0,0],'k-',lw=2,label='Impulse (u)')\n",
    "plt.grid(); plt.legend(); plt.ylabel('u(t)')\n",
    "plt.subplot(2,1,2)\n",
    "plt.plot(t,y2,'b-', lw=2,\\\n",
    "  label=r'Integrating System $\\left(y=c\\int u \\; dt\\right)$')\n",
    "plt.plot(t,y1,'r--',lw=2,\\\n",
    "  label=r'Non-Integrating System')\n",
    "plt.legend(); plt.grid(); plt.xlabel('time'); plt.ylabel('y(t)')\n",
    "plt.savefig('pictures/figure.png',dpi=300,bbox_inches='tight')\n",
    "\n",
    "plt.show()"
   ]
  },
  {
   "cell_type": "markdown",
   "metadata": {},
   "source": [
    "Consider the example of a water bottle with a leak (non-integrating system) and without a leak (integrating system). When the water bottle is filled, the level returns to zero for the non-integrating system. For the bottle without a leak, the volume of liquid in the container is the integral of the inlet flow and doesn't return to zero."
   ]
  },
  {
   "cell_type": "markdown",
   "metadata": {},
   "source": [
    "### Controller Offset\n",
    "\n",
    "P-only control is needed for integrating processes (e.g. tank level control with no outlet flow). If used on non-integrating processes there may be persistent offset between the desired set point and process variable with a P-only controller. Integral action is typically used to remove offset (see PI Control)."
   ]
  },
  {
   "cell_type": "markdown",
   "metadata": {},
   "source": [
    "### Tuning Correlations\n",
    "A common tuning correlation for P-only control is the ITAE (Integral of Time-weighted Absolute Error) method. Different tuning correlations are provided for disturbance rejection (also referred to as regulatory control) and set point tracking (also referred to as servo control).\n",
    "\n",
    "$$K_c = \\frac{0.20}{K_p}\\left(\\frac{\\tau_p}{\\theta_p}\\right)^{1.22} \\quad \\mathrm{Set\\;point\\;tracking}$$\n",
    "\n",
    "$$K_c = \\frac{0.50}{K_p}\\left(\\frac{\\tau_p}{\\theta_p}\\right)^{1.08}\\quad \\mathrm{Disturbance\\;rejection}$$\n",
    "\n",
    "The parameters $K_{p}, \\tau_{p}$, and $\\theta_{p}$ are obtained by fitting dynamic input and output data to a first-order plus dead-time (FOPDT) model."
   ]
  }
 ],
 "metadata": {
  "interpreter": {
   "hash": "e7c37ba80a6e54a3d63188245ab5de6a3e0d381993bcb1990a7020536fc2299e"
  },
  "kernelspec": {
   "display_name": "Python 3.6.4 64-bit",
   "language": "python",
   "name": "python3"
  },
  "language_info": {
   "codemirror_mode": {
    "name": "ipython",
    "version": 3
   },
   "file_extension": ".py",
   "mimetype": "text/x-python",
   "name": "python",
   "nbconvert_exporter": "python",
   "pygments_lexer": "ipython3",
   "version": "3.6.4"
  },
  "orig_nbformat": 4
 },
 "nbformat": 4,
 "nbformat_minor": 2
}
