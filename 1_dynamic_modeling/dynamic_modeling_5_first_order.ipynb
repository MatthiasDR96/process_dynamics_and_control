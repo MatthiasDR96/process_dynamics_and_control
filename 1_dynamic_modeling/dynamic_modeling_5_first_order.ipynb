{
 "cells": [
  {
   "cell_type": "markdown",
   "metadata": {},
   "source": [
    "## First Order Plus Dead Time (FOPDT)\n",
    "A first-order linear system with time delay is a common empirical description of many stable dynamic processes. The First Order Plus Dead Time (FOPDT) model is used to obtain initial controller tuning constants. An interactive FOPDT IPython Widget demonstrates the effect of the three adjustable parameters in the FOPDT equation. Downloading and running the iPython notebook locally reveals three slider bars that update the plot based on changes to the gain \n",
    "$K_p$, time constant $\\tau_p$, and dead time $\\theta_p$. After gaining an intuitive understanding of how the parameters influence the step response, it is important to understand the mathematical FOPDT equation. The equation:\n",
    "$$\\tau_p \\frac{dy(t)}{dt} = -y(t) + K_p u\\left(t-\\theta_p\\right)$$\n",
    "\n",
    "has variables $y(t)$ and $u(t)$ and three unknown parameters with\n",
    "\n",
    "$$K_p \\quad \\mathrm{= Process \\; gain}$$\n",
    "$$\\tau_p \\quad \\mathrm{= Process \\; time \\; constant}$$\n",
    "$$\\theta_p \\quad \\mathrm{= Process \\; dead \\; time}$$"
   ]
  },
  {
   "cell_type": "markdown",
   "metadata": {},
   "source": [
    "### Process gain, $K_{p}$\n",
    "\n",
    "The process gain is the change in the output y induced by a unit change in the input u. The process gain is calculated by evaluating the change in y(t) divided by the change in u(t) at steady state initial and final conditions\n",
    "$$K_p = \\frac{\\Delta y}{\\Delta u} = \\frac{y_{ss_2}-y_{ss_1}}{u_{ss_2}-u_{ss_1}}$$\n",
    "The process gain affects the magnitude of the response, regardless of the speed of response."
   ]
  },
  {
   "cell_type": "markdown",
   "metadata": {},
   "source": [
    "### Process Time Constant, $\\tau_{p}$\n",
    "\n",
    "Given a change in u(t)= Δu\n",
    ", the solution to the linear first-order differential (without time delay) becomes\n",
    "\n",
    "$$y(t) = \\left( e^{-t / \\tau_p} \\right) y(0) + \\left( 1 - e^{-t / \\tau_p} \\right) K_p \\Delta u$$\n",
    "\n",
    "If the initial condition y(0)=0 and at $t=\\tau_{p}$\n",
    ", the solution is simplified to the following.\n",
    "\n",
    "$$y\\left( \\tau_p \\right) = \\left( 1 - e^{-\\tau_p / \\tau_p} \\right) K_p \\Delta u = \\left( 1 - e^{-1} \\right) K_p \\Delta u = 0.632 K_p \\Delta u$$\n",
    "\n",
    "##### Derivation\n",
    "\n",
    "Start with the linear differential equation with time delay:\n",
    "\n",
    "$$\\tau_p \\frac{dy(t)}{dt} = -y(t) + K_p u\\left(t\\right)$$\n",
    "\n",
    "Perform a Laplace transform from the tables on each part of the equation:\n",
    "\n",
    "$$\\mathcal{L}\\left(\\tau_p \\frac{dy(t)}{dt}\\right) = \\tau_p \\left(s Y(s) - y(0)\\right)$$\n",
    "$$\\mathcal{L}\\left(-y(t)\\right) = -Y(s)$$\n",
    "$$\\mathcal{L}\\left(K_p u\\left(t\\right)\\right) = K_p U(s)$$\n",
    "\n",
    "If the input $U(s)$ is a step function of size $\\Delta u$ then:\n",
    "\n",
    "$$U(s) = \\frac{\\Delta u}{s}$$\n",
    "\n",
    "Combining all of the individual Laplace transforms, the equation in Laplace domain with zero initial condition $y(0)=0$ is then:\n",
    "\n",
    "$$\\tau_p \\, s \\, Y(s) = -Y(s) + K_p \\frac{\\Delta u}{s}$$\n",
    "\n",
    "and factoring out the $Y(s)$ term:\n",
    "\n",
    "$$Y(s) \\left(\\tau_p \\, s + 1\\right) = K_p \\frac{\\Delta u}{s}$$\n",
    "\n",
    "A final steps are to isolate $Y(s)$ on the left side of the equation and perform an inverse Laplace transform to return to the time domain:\n",
    "\n",
    "$$Y(s) = K_p \\frac{\\Delta u}{s\\,\\left(\\tau_p \\, s + 1\\right)}$$\n",
    "\n",
    "$$\\mathcal{L}^{-1}\\left(Y(s)\\right) = y(t) =  K_p \\left( 1-\\exp \\left( 1-\\frac{ \\left( t \\right) } { \\tau_p } \\right) \\right) \\, \\Delta u$$\n",
    "\n",
    "The process time constant is therefore the amount of time needed for the output to reach $(1-exp(-1))$ or $63.2\\%$ of the way to steady state conditions. The process time constant affects the speed of response."
   ]
  },
  {
   "cell_type": "markdown",
   "metadata": {},
   "source": [
    "### Process Time Delay, $\\theta_{p}$\n",
    "The time delay is expressed as a time shift in the input variable u(t).\n",
    "\n",
    "$$u(t−\\theta_{p})$$\n",
    "\n",
    "Suppose that that input signal is a step function that normally changes from 0 to 1 at time=0 but this shift is delayed by 5 sec. The input function $u(t)$ and output function $y(t)$ are time-shifted by 5 sec. The solution to the first-order differential equation with time delay is obtained by replacing all variables $t$ with $t−\\theta_{p}$ and applying the conditional result based on the time in relation to the time delay, $\\theta_{p}$.\n",
    "\n",
    "$$y(t \\lt \\theta_p) = y(0)$$\n",
    "\n",
    "$$y(t \\ge \\theta_p) = \\left( e^{-\\left(t - \\theta_p \\right) / \\tau_p}\\right) y(0) + \\left( 1 - e^{-\\left(t - \\theta_p \\right) / \\tau_p} \\right) K_p \\Delta u$$"
   ]
  }
 ],
 "metadata": {
  "interpreter": {
   "hash": "e7c37ba80a6e54a3d63188245ab5de6a3e0d381993bcb1990a7020536fc2299e"
  },
  "kernelspec": {
   "display_name": "Python 3.6.4 64-bit",
   "language": "python",
   "name": "python3"
  },
  "language_info": {
   "name": "python",
   "version": "3.6.4"
  },
  "orig_nbformat": 4
 },
 "nbformat": 4,
 "nbformat_minor": 2
}
