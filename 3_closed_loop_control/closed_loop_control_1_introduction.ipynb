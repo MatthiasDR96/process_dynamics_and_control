{
 "cells": [
  {
   "cell_type": "markdown",
   "metadata": {},
   "source": [
    "# Introduction\n",
    "\n",
    "There are examples of feedback controllers everywhere. There are 3 essential elements of a feedback control system.\n",
    "\n",
    "* Actuator that manipulates and causes an action\n",
    "* Sensor that measures the response\n",
    "* Controller that adjusts the actuator in response to the measurement\n",
    "\n",
    "The controller receives the sensor measurement and compares it to the target (set point) to determine what adjustment is needed to the actuator. Some actuators are binary such as ON/OFF while others are continuous such as percent open (0-100%). Below are a couple examples of feedback controllers."
   ]
  },
  {
   "cell_type": "markdown",
   "metadata": {},
   "source": [
    "### Example 1: Building Temperature Control\n",
    "\n",
    "One well-known example of a controller is the temperature control of a building in winter includes a heater (actuator), sensor (temperature thermistor), and controller (thermostat). The controller switches the heater on when the temperature drops below a certain level and switches the heater off when the temperature rises above a certain level. A disturbance variable may be changes in the outside air temperature or a change in indoor temperature due to a door opening."
   ]
  },
  {
   "cell_type": "markdown",
   "metadata": {},
   "source": [
    "### Example 2: Automobile Speed Control\n",
    "\n",
    "Consider an automobile with an automatic cruise control. The driver may adjust the velocity set point for the controller. The controller adjusts the gas pedal position (actuator) in response to changes in the speedometer reading (sensor). A disturbance variable may be an approaching hill or wind that would cause a deviation of the speed from the desired set point."
   ]
  },
  {
   "cell_type": "markdown",
   "metadata": {},
   "source": [
    "### Process Schematic\n",
    "\n",
    "A process schematic can be augmented with circles that reveal the type of transmitter or controller.\n",
    "\n",
    "<img src=\"pictures/cascade_with_feedforward.png\" width=\"500\">\n",
    "\n",
    "Two letters in the circle name indicate the quantity being measured and whether it is a transmitter or a controller.\n",
    "\n",
    "The diagram above has a FT=Flow Transmitter, PT=Pressure Transmitter, PC=Pressure Controller, FC=Flow Controller, and FT=Flow Transmitter. The FT/FC and PT/PC both form feedback loops because they measure and control the same quantity. The FC receives a set point from the PC above to create a cascade controller of two feedback loops. The upper FT measures a pressure disturbance and provides a feedforward element to the pressure control. Feedforward and cascade controllers are added to reject additional disturbances and are more advanced than common feedback control."
   ]
  },
  {
   "cell_type": "markdown",
   "metadata": {},
   "source": [
    "### Industrial Example\n",
    "\n",
    "The IP (Intermediate Pressure ~50 atm) Separator splits an offshore well stream into gas and liquid streams. Identify the transmitters, valves, and controllers that maintain level and monitor pressure in the separator."
   ]
  },
  {
   "cell_type": "markdown",
   "metadata": {},
   "source": [
    "### Block diagrams\n",
    "\n",
    "Block diagrams show the blocks of a control system with the interconnections that determine the direction and connections of inputs and outputs. A feedback control system consists of a sensor, actuator and controller that are connected with information flowing in a loop. The loop is created with the sensor providing information to the controller. The controller changes the controller output that then changes the process. The process is measured again and the cycle repeats.\n",
    "\n",
    "<img src=\"pictures/block_diagram.png\">\n",
    "\n",
    "Block diagrams are different than a process diagram in that it is a diagram of the flow of information, not necessarily how the pieces of equipment are physically placed."
   ]
  },
  {
   "cell_type": "markdown",
   "metadata": {},
   "source": [
    "### Control Terminology\n",
    "\n",
    "There is different terminology when talking about common controllers such as Proportional Integral Derivative (PID) or advanced controllers such as Model Predictive Control (MPC). Below is a table of some of the terminology and associated abbreviations."
   ]
  }
 ],
 "metadata": {
  "language_info": {
   "name": "python"
  },
  "orig_nbformat": 4
 },
 "nbformat": 4,
 "nbformat_minor": 2
}
