{
 "cells": [
  {
   "cell_type": "markdown",
   "metadata": {},
   "source": [
    "# Refinery Optimization\n",
    "\n",
    "Refinery optimization deals with selecting the best way to process crude oil to maximize revenue, meet environmental regulations, meet customer contractual demands, and blend products or crude feed. Optimization can increase profitability of a refinery by describing constraints and objectives with variables and equations. Optimization is a supervisory application that delivers set points or targets to process controllers."
   ]
  }
 ],
 "metadata": {
  "language_info": {
   "name": "python"
  },
  "orig_nbformat": 4
 },
 "nbformat": 4,
 "nbformat_minor": 2
}
