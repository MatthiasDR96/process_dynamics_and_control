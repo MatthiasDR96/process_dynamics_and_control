{
 "cells": [
  {
   "cell_type": "markdown",
   "metadata": {},
   "source": [
    "# Feedforward Control\n",
    "\n",
    "Feedforward control is a strategy to reject persistent disturbances that cannot adequately be rejected with feedback control. Feedforward control is typically added to feedback control and is not usually implemented alone. In certain situations, the performance of control systems can be enhanced greatly by the application of feedforward control. Two key characteristics are needed:\n",
    "\n",
    "1. An identifiable disturbance is affecting significantly the measured variable, in spite of the attempts of a feedback control system to regulate these effects\n",
    "2. This disturbance can be measured, perhaps with the addition of instrumentation\n",
    "\n",
    "An ideal feedforward controller is the negative ratio of the disturbance transfer function divided by the process transfer function.\n",
    "\n",
    "$$G_{ff} = -\\frac{G_d}{G_p}$$\n",
    "\n",
    "<img src=\"pictures/feedforward_disturbance.png\">"
   ]
  },
  {
   "cell_type": "markdown",
   "metadata": {},
   "source": [
    "The process model:\n",
    "\n",
    "$$\\tau_p \\frac{dy_1(t)}{dt} = -y_1(t) + K_p u\\left(t-\\theta_p\\right)$$\n",
    "\n",
    "and the disturbance model:\n",
    "\n",
    "$$\\tau_d \\frac{dy_2(t)}{dt} = -y_2(t) + K_d u\\left(t-\\theta_d\\right)$$\n",
    "\n",
    "can be combined with $y(t) = y_{1}(t) + y_{2}(t)$  because they are linear function in deviation variable form. If they have the same time constant $\\tau_p=\\tau_{d}$ then the equations can be combined with variables y(t) and u(t) and 5 unknown parameters.\n",
    "\n",
    "$$K_p \\quad \\mathrm{= Process \\; gain}$$\n",
    "$$K_d \\quad \\mathrm{= Disturbance \\; gain}$$\n",
    "$$\\tau=\\tau_p=\\tau_d \\quad \\mathrm{= Time \\; constant}$$\n",
    "$$\\theta_p \\quad \\mathrm{= Process \\; dead \\; time}$$\n",
    "$$\\theta_d \\quad \\mathrm{= Disturbance \\; dead \\; time}$$\n",
    "\n",
    "For most implementations, the feedforward control gain is set to a ratio of the disturbance and process gains. This is a good approximation to $G_{ff}$ when the disturbance and controller output act on the process with similar dynamics $\\tau_d \\approx \\tau_p$. This is often the case in chemical process control applications where the disturbance and the actuator are both physical inputs to the same control volume.\n",
    "\n",
    "$$K_{ff} = -\\frac{K_d}{K_p}$$\n",
    "\n",
    "Feedforward trim is added to a PID controller with the addition of a final term where d is the measured disturbance.\n",
    "\n",
    "$$u(t) = u_{bias} + K_c \\, e(t) + \\frac{K_c}{\\tau_I}\\int_0^t e(t)dt - K_c \\tau_D \\frac{d(PV)}{dt} + \\color{blue}{K_{ff}\\,d}$$"
   ]
  },
  {
   "cell_type": "markdown",
   "metadata": {},
   "source": [
    "### Exercise\n",
    "\n",
    "A feedforward controller $G_{ff}$ is proposed to improve the control of the disturbance $D$ with the following transfer functions.\n",
    "\n",
    "$$G_p(s)=\\frac{0.6e^{-37s}}{39s+1} \\quad \\quad G_d(s)=\\frac{0.25e^{-57s}}{31s+1} \\quad \\quad G_v(s)=\\frac{5}{2s+1}$$\n",
    "\n",
    "<img src=\"pictures/feedforward_exercise.png\">\n",
    "\n",
    "Derive a dynamic $G_{ff}$ and static $K_{ff}$ feedforward controller that will best reject the disturbance."
   ]
  }
 ],
 "metadata": {
  "language_info": {
   "name": "python"
  },
  "orig_nbformat": 4
 },
 "nbformat": 4,
 "nbformat_minor": 2
}
