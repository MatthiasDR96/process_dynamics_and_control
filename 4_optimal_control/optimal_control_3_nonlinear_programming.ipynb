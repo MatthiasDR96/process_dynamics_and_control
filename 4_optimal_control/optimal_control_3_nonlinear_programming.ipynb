{
 "cells": [
  {
   "cell_type": "markdown",
   "metadata": {},
   "source": [
    "# Nonlinear Programming with Python\n",
    "\n",
    "Optimization deals with selecting the best option among a number of possible choices that are feasible or don't violate constraints. Python can be used to optimize parameters in a model to best fit data, increase profitability of a potential engineering design, or meet some other type of objective that can be described mathematically with variables and equations. Mathematical optimization problems may include equality constraints (e.g. =), inequality constraints (e.g. <, <=, >, >=), objective functions, algebraic equations, differential equations, continuous variables, discrete or integer variables, etc. A general statement of an optimization problem with nonlinear objectives or constraints is given by the following:\n",
    "\n",
    "$$\\mathrm{minimize} \\quad J(x)$$\n",
    "$$\\mathrm{subject\\;to}\\quad g(x)>0$$\n",
    "$$\\quad\\quad\\quad\\quad f(x)=0$$\n",
    "\n",
    "The Karush Kuhn Tucker conditions must be satisfied in order to verify that a potential solution is optimal. An optimization problem has an objective $J(x)$, $n$ inequality constraints $g(x)$, and $m$ equality constraints $f(x)$:\n",
    "\n",
    "$$\\min_x J(x)$$\n",
    "$$\\mathrm{subject\\;to}\\quad g_i(x) \\ge 0 \\quad i=1,\\ldots,n$$\n",
    "$$\\quad\\quad\\quad\\quad\\quad f_i(x) = 0 \\quad i=1,\\ldots,m$$\n",
    "\n",
    "There are four KKT conditions for optimal primal $(x)$ and dual $\\lambda$ variables. A dual variable is a shadow price that shows how much the objective function can be locally improved if that constraint did not exist. The asterisk (*) is an indication that it is an optimal value.\n",
    "\n",
    "**1. Feasible Constraints**\n",
    "\n",
    "$$g_i(x^*) \\mathrm{\\;and\\;} f_i(x^*) \\mathrm{\\;are\\;feasible}$$\n",
    "\n",
    "**2. No Feasible Descent**\n",
    "\n",
    "$$\\nabla J(x^*)-\\sum_{i=1}^n \\lambda_i^* \\nabla g_i\\left(x^*\\right)-\\sum_{i=1}^m \\lambda_i^* \\nabla f_i\\left(x^*\\right)=0$$\n",
    "\n",
    "**3. Complementary Slackness**\n",
    "\n",
    "$$\\lambda_i^* \\left( g_i(x^*) \\right) = 0$$\n",
    "\n",
    "**4. Positive Langrange Multipliers**\n",
    "\n",
    "$$\\lambda_i^* \\ge 0$$\n",
    "\n",
    "Fortunately, there are good numerical methods for solving nonlinear programming problems to satisfy the KKT conditions. Three shown below are the APMonitor Optimization Suite (web interface), Python minimize function, and Python Gekko."
   ]
  },
  {
   "cell_type": "markdown",
   "metadata": {},
   "source": [
    "### Exercise\n",
    "\n",
    "One example of an optimization problem from a benchmark test set is the Hock Schittkowski problem #71.\n",
    "\n",
    "$$\\min x_1 x_4 \\left(x_1 + x_2 + x_3\\right) + x_3$$\n",
    "$$\\mathrm{s.t.} \\quad x_1 x_2 x_3 x_4 \\ge 25$$\n",
    "$$x_1^2 + x_2^2 + x_3^2 + x_4^2 = 40$$\n",
    "$$1\\le x_1, x_2, x_3, x_4 \\le 5$$\n",
    "$$x_0 = (1,5,5,1)$$\n",
    "\n",
    "This problem has a nonlinear objective that the optimizer attempts to minimize. The variable values at the optimal solution are subject to (s.t.) both equality $(=40)$ and inequality $(>25)$ constraints. The product of the four variables must be greater than 25 while the sum of squares of the variables must also equal 40. In addition, all variables must be between 1 and 5 and the initial guess is $x_{1} = 1, x_{2} = 5, x_{3} = 5$, and $x_{4} = 1$.\n",
    "\n",
    "<img src=\"pictures/hs071_contour.png\">\n",
    "\n",
    "For this problem determine:\n",
    "\n",
    "1. A potential feasible solution\n",
    "2. Identify the constraints on the contour plot\n",
    "3. Mark the set of feasible solutions on the contour plot\n",
    "4. Identify the minimum objective feasible solution\n",
    "5. Identify the maximum objective feasible solution\n",
    "6. Use a nonlinear programming solver to find a solution"
   ]
  },
  {
   "cell_type": "code",
   "execution_count": 1,
   "metadata": {},
   "outputs": [
    {
     "name": "stdout",
     "output_type": "stream",
     "text": [
      "Initial SSE Objective: 16.0\n",
      "Final SSE Objective: 17.01401724563517\n",
      "Solution\n",
      "x1 = 1.0\n",
      "x2 = 4.742996096883977\n",
      "x3 = 3.8211546234095715\n",
      "x4 = 1.379407645075325\n"
     ]
    }
   ],
   "source": [
    "import numpy as np\n",
    "from scipy.optimize import minimize\n",
    "\n",
    "def objective(x):\n",
    "    return x[0]*x[3]*(x[0]+x[1]+x[2])+x[2]\n",
    "\n",
    "def constraint1(x):\n",
    "    return x[0]*x[1]*x[2]*x[3]-25.0\n",
    "\n",
    "def constraint2(x):\n",
    "    sum_eq = 40.0\n",
    "    for i in range(4):\n",
    "        sum_eq = sum_eq - x[i]**2\n",
    "    return sum_eq\n",
    "\n",
    "# initial guesses\n",
    "n = 4\n",
    "x0 = np.zeros(n)\n",
    "x0[0] = 1.0\n",
    "x0[1] = 5.0\n",
    "x0[2] = 5.0\n",
    "x0[3] = 1.0\n",
    "\n",
    "# show initial objective\n",
    "print('Initial SSE Objective: ' + str(objective(x0)))\n",
    "\n",
    "# optimize\n",
    "b = (1.0,5.0)\n",
    "bnds = (b, b, b, b)\n",
    "con1 = {'type': 'ineq', 'fun': constraint1}\n",
    "con2 = {'type': 'eq', 'fun': constraint2}\n",
    "cons = ([con1,con2])\n",
    "solution = minimize(objective,x0,method='SLSQP',\\\n",
    "                    bounds=bnds,constraints=cons)\n",
    "x = solution.x\n",
    "\n",
    "# show final objective\n",
    "print('Final SSE Objective: ' + str(objective(x)))\n",
    "\n",
    "# print solution\n",
    "print('Solution')\n",
    "print('x1 = ' + str(x[0]))\n",
    "print('x2 = ' + str(x[1]))\n",
    "print('x3 = ' + str(x[2]))\n",
    "print('x4 = ' + str(x[3]))"
   ]
  }
 ],
 "metadata": {
  "interpreter": {
   "hash": "e7c37ba80a6e54a3d63188245ab5de6a3e0d381993bcb1990a7020536fc2299e"
  },
  "kernelspec": {
   "display_name": "Python 3.6.4 64-bit",
   "language": "python",
   "name": "python3"
  },
  "language_info": {
   "codemirror_mode": {
    "name": "ipython",
    "version": 3
   },
   "file_extension": ".py",
   "mimetype": "text/x-python",
   "name": "python",
   "nbconvert_exporter": "python",
   "pygments_lexer": "ipython3",
   "version": "3.6.4"
  },
  "orig_nbformat": 4
 },
 "nbformat": 4,
 "nbformat_minor": 2
}
