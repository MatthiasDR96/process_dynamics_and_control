{
 "cells": [
  {
   "cell_type": "markdown",
   "metadata": {},
   "source": [
    "# Graphical Method: FOPDT to Step Test\n",
    "\n",
    "Dynamic processes are often characterized by a gain $(K_{c}$), time constant $(\\tau_{p}$), and sometimes dead-time $(\\theta_{p})$. Use a graphical fitting method to estimate the three characteristic parameters of the following dynamic systems described by a first-order linear system with time delay.\n",
    "\n",
    "$$\\tau_p \\frac{dy(t)}{dt} = -y(t) + K_p u\\left(t-\\theta_p\\right)$$\n",
    "\n",
    "1. Find $\\Delta y$ from step response\n",
    "2. Find $\\Delta u$ from step response\n",
    "3. Calculate $K_p = {\\Delta y} / {\\Delta u}$\n",
    "4. Find $\\theta_{p}$, apparent dead time, from step response\n",
    "5. Find $0.632 \\Delta y$ from step response\n",
    "6. Find $y(t_{0.632}) = 0.632 \\Delta y$ from step response\n",
    "7. Calculate $\\tau_p = t_{0.632} - \\theta_p$. This assumes that the step starts at $t=0$. If the step happens later, subtract the step time as well."
   ]
  },
  {
   "cell_type": "markdown",
   "metadata": {},
   "source": [
    "### Problem 1\n",
    "\n",
    "<img src=\"../pictures/fopdt_fit1.png\">\n",
    "\n",
    "### Problem 2\n",
    "\n",
    "<img src=\"../pictures/fopdt_fit2.png\">\n",
    "\n",
    "### Problem 3\n",
    "\n",
    "<img src=\"../pictures/fopdt_fit3.png\">\n",
    "\n",
    "### Problem 4\n",
    "\n",
    "<img src=\"../pictures/fopdt_fit4.png\">\n",
    "\n",
    "### Problem 5\n",
    "\n",
    "<img src=\"../pictures/fopdt_fit5.png\">\n",
    "\n",
    "### Problem 6\n",
    "\n",
    "<img src=\"../pictures/fopdt_fit6.png\">\n",
    "\n",
    "### Problem 7\n",
    "\n",
    "<img src=\"../pictures/fopdt_fit7.png\">"
   ]
  }
 ],
 "metadata": {
  "language_info": {
   "name": "python"
  },
  "orig_nbformat": 4
 },
 "nbformat": 4,
 "nbformat_minor": 2
}
