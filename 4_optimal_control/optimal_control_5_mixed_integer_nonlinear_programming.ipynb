{
 "cells": [
  {
   "cell_type": "markdown",
   "metadata": {},
   "source": [
    "# Mixed Integer Nonlinear Programming\n",
    "\n",
    "Integer Programming is a type of optimization problem where the variables are restricted to discrete whole number values. A Mixed-Integer Programming problem is when some of the variables are continuous and some are discrete. Mixed-Integer Nonlinear Programming (MINLP) also includes nonlinear equations and requires specialized MINLP solvers such as APOPT.\n",
    "\n",
    "Binary (0 or 1) or the more general integer (select integer 0 to 10), or other discrete decision variables are frequently used in optimization. Examples of discrete variables include ON/OFF state (0 or 1 binary), selection of multiple options (0 to 5 integers), and other variables that are naturally integers.\n",
    "\n",
    "At first glance it might seem solving a discrete variable problem would be easier than a continuous problem. After all, for a variable within a given range, a set of discrete values within the range is finite whereas the number of continuous values is infinite. When searching for an optimum, it seems it would be easier to search from a finite set rather than from an infinite set.\n",
    "\n",
    "This is not the case, however. Solving discrete problems is harder than continuous problems. This is because of the combinatorial explosion that occurs in all but the smallest problems. For example if we have two variables which can each take 10 values, we have 10*10 = 100 possibilities. If we have 10 variables that can each take 10 values, we have 1010 possibilities. Even with the fastest computer, it would take a long time to evaluate all of these. There are numerical solvers such as APOPT and Bonmin that use methods such branch and bound and outer approximations to efficiently solve problems with binary, integer, or discrete variables."
   ]
  },
  {
   "cell_type": "markdown",
   "metadata": {},
   "source": [
    "### Binary Variables\n",
    "\n",
    "Integer or binary variables are defined in the APMonitor Modeling Language by appending a variable name with int. An binary decision variable is an integer variable with bounds between 0 and 1. Binary variables x1 and x2 problem are solved with Python GEKKO. The option integer=True is used to switch the variable from continuous to discrete form. The APOPT solver is required to solve problem with integer variables."
   ]
  },
  {
   "cell_type": "code",
   "execution_count": 1,
   "metadata": {},
   "outputs": [
    {
     "name": "stdout",
     "output_type": "stream",
     "text": [
      "apm 78.23.238.168_gk_model0 <br><pre> ----------------------------------------------------------------\n",
      " APMonitor, Version 1.0.1\n",
      " APMonitor Optimization Suite\n",
      " ----------------------------------------------------------------\n",
      " \n",
      " \n",
      " Warning: there is insufficient data in CSV file 78.23.238.168_gk_model0.csv\n",
      " \n",
      " --------- APM Model Size ------------\n",
      " Each time step contains\n",
      "   Objects      :            0\n",
      "   Constants    :            0\n",
      "   Variables    :            2\n",
      "   Intermediates:            0\n",
      "   Connections  :            0\n",
      "   Equations    :            1\n",
      "   Residuals    :            1\n",
      " \n",
      " Number of state variables:              2\n",
      " Number of total equations: -            0\n",
      " Number of slack variables: -            0\n",
      " ---------------------------------------\n",
      " Degrees of freedom       :              2\n",
      " \n",
      " ----------------------------------------------\n",
      " Steady State Optimization with APOPT Solver\n",
      " ----------------------------------------------\n",
      "Iter:     1 I:  0 Tm:      0.00 NLPi:    5 Dpth:    0 Lvs:    3 Obj:  9.50E-01 Gap:       NaN\n",
      "--Integer Solution:   1.00E+00 Lowest Leaf:   9.50E-01 Gap:   5.04E-02\n",
      "Iter:     2 I:  0 Tm:      0.00 NLPi:    1 Dpth:    1 Lvs:    2 Obj:  1.00E+00 Gap:  5.04E-02\n",
      "--Integer Solution:   1.00E+00 Lowest Leaf:   9.50E-01 Gap:   5.04E-02\n",
      "Iter:     3 I:  0 Tm:      0.00 NLPi:    2 Dpth:    1 Lvs:    1 Obj:  2.00E+00 Gap:  5.04E-02\n",
      "--Integer Solution:   1.00E+00 Lowest Leaf:   1.00E+00 Gap:   0.00E+00\n",
      "Iter:     4 I:  0 Tm:      0.00 NLPi:    2 Dpth:    1 Lvs:    1 Obj:  1.00E+00 Gap:  0.00E+00\n",
      " Successful solution\n",
      " \n",
      " ---------------------------------------------------\n",
      " Solver         :  APOPT (v1.0)\n",
      " Solution time  :   1.379999998607673E-002 sec\n",
      " Objective      :    1.00000000000000     \n",
      " Successful solution\n",
      " ---------------------------------------------------\n",
      " \n",
      "x1: 0.0\n",
      "x2: 0.0\n"
     ]
    }
   ],
   "source": [
    "from gekko import GEKKO\n",
    "m = GEKKO() # create GEKKO model\n",
    "# create binary variables\n",
    "x1 = m.Var(integer=True,lb=0,ub=1)\n",
    "x2 = m.Var(integer=True,lb=0,ub=1)\n",
    "m.Minimize(4*x1**2-4*x2*x1**2+x2**2+x1**2-x1+1)\n",
    "m.options.SOLVER = 1 # APOPT solver\n",
    "m.solve()\n",
    "print('x1: ' + str(x1.value[0]))\n",
    "print('x2: ' + str(x2.value[0]))"
   ]
  },
  {
   "cell_type": "markdown",
   "metadata": {},
   "source": [
    "### Integer Variables\n",
    "\n",
    "The range of upper and lower bounds can be increased or decreased to any range to create an integer variable. Integer variables x1 and x2 problem are solved with Python GEKKO. The option integer=True is used to switch the variable from continuous to discrete variables and the range is expanded from 0-1 to a wider range for both variables."
   ]
  },
  {
   "cell_type": "code",
   "execution_count": 2,
   "metadata": {},
   "outputs": [
    {
     "name": "stdout",
     "output_type": "stream",
     "text": [
      "apm 78.23.238.168_gk_model1 <br><pre> ----------------------------------------------------------------\n",
      " APMonitor, Version 1.0.1\n",
      " APMonitor Optimization Suite\n",
      " ----------------------------------------------------------------\n",
      " \n",
      " \n",
      " Warning: there is insufficient data in CSV file 78.23.238.168_gk_model1.csv\n",
      " \n",
      " --------- APM Model Size ------------\n",
      " Each time step contains\n",
      "   Objects      :            0\n",
      "   Constants    :            0\n",
      "   Variables    :            2\n",
      "   Intermediates:            0\n",
      "   Connections  :            0\n",
      "   Equations    :            1\n",
      "   Residuals    :            1\n",
      " \n",
      " Number of state variables:              2\n",
      " Number of total equations: -            0\n",
      " Number of slack variables: -            0\n",
      " ---------------------------------------\n",
      " Degrees of freedom       :              2\n",
      " \n",
      " ----------------------------------------------\n",
      " Steady State Optimization with APOPT Solver\n",
      " ----------------------------------------------\n",
      "Iter:     1 I:  0 Tm:      0.00 NLPi:    5 Dpth:    0 Lvs:    3 Obj:  9.50E-01 Gap:       NaN\n",
      "--Integer Solution:   1.00E+00 Lowest Leaf:   9.50E-01 Gap:   5.04E-02\n",
      "Iter:     2 I:  0 Tm:      0.00 NLPi:    1 Dpth:    1 Lvs:    2 Obj:  1.00E+00 Gap:  5.04E-02\n",
      "--Integer Solution:  -3.05E+02 Lowest Leaf:  -3.05E+02 Gap:   0.00E+00\n",
      "Iter:     3 I:  0 Tm:      0.00 NLPi:    5 Dpth:    1 Lvs:    2 Obj: -3.05E+02 Gap:  0.00E+00\n",
      " Successful solution\n",
      " \n",
      " ---------------------------------------------------\n",
      " Solver         :  APOPT (v1.0)\n",
      " Solution time  :   1.399999999557622E-002 sec\n",
      " Objective      :   -305.000000000000     \n",
      " Successful solution\n",
      " ---------------------------------------------------\n",
      " \n",
      "x1: 10.0\n",
      "x2: 2.0\n"
     ]
    }
   ],
   "source": [
    "from gekko import GEKKO\n",
    "m = GEKKO() # create GEKKO model\n",
    "# create integer variables\n",
    "x1 = m.Var(integer=True,lb=-5,ub=10)\n",
    "x2 = m.Var(integer=True,lb=-1,ub=2)\n",
    "m.Minimize(4*x1**2-4*x2*x1**2+x2**2+x1**2-x1+1)\n",
    "m.options.SOLVER = 1 # APOPT solver\n",
    "m.solve()\n",
    "print('x1: ' + str(x1.value[0]))\n",
    "print('x2: ' + str(x2.value[0]))"
   ]
  },
  {
   "cell_type": "markdown",
   "metadata": {},
   "source": [
    "Nonlinear programming solvers (such as IPOPT) may not return an integer solution because they are designed for continuous variables. Mixed Integer Nonlinear Programming solvers (such as APOPT) are equipped to solve for binary or integer variables. Select the appropriate solver option to either find an initial solution without integer variables or an integer solution. It is sometimes desirable to find a non-integer solution first because of the often significant reduction in computation time without the integer variables."
   ]
  },
  {
   "cell_type": "markdown",
   "metadata": {},
   "source": [
    "### Discrete Variables\n",
    "\n",
    "Discrete decision variables are those that have only certain levels or quantities that are acceptable at an optimal solution. Examples of discrete variables are binary (e.g. off/on or 0/1), integer (e.g. 4,5,6,7), or general discrete values that are not integer (e.g. 1/4 cm, 1/2 cm, 1 cm). Integer variable x1 and Special Ordered Set x2 variables are solved with Python GEKKO. The sos1 Gekko function is used to create the SOS1 variable."
   ]
  },
  {
   "cell_type": "code",
   "execution_count": 3,
   "metadata": {},
   "outputs": [
    {
     "name": "stdout",
     "output_type": "stream",
     "text": [
      "apm 78.23.238.168_gk_model2 <br><pre> ----------------------------------------------------------------\n",
      " APMonitor, Version 1.0.1\n",
      " APMonitor Optimization Suite\n",
      " ----------------------------------------------------------------\n",
      " \n",
      " \n",
      " --------- APM Model Size ------------\n",
      " Each time step contains\n",
      "   Objects      :            0\n",
      "   Constants    :            0\n",
      "   Variables    :            6\n",
      "   Intermediates:            1\n",
      "   Connections  :            0\n",
      "   Equations    :            4\n",
      "   Residuals    :            3\n",
      " \n",
      " Number of state variables:              6\n",
      " Number of total equations: -            2\n",
      " Number of slack variables: -            0\n",
      " ---------------------------------------\n",
      " Degrees of freedom       :              4\n",
      " \n",
      " ----------------------------------------------\n",
      " Steady State Optimization with APOPT Solver\n",
      " ----------------------------------------------\n",
      "Iter:     1 I:  0 Tm:      0.00 NLPi:    8 Dpth:    0 Lvs:    2 Obj:  1.17E+00 Gap:       NaN\n",
      "--Integer Solution:  -1.56E+03 Lowest Leaf:  -1.56E+03 Gap:   0.00E+00\n",
      "Iter:     2 I:  0 Tm:      0.00 NLPi:    5 Dpth:    1 Lvs:    2 Obj: -1.56E+03 Gap:  0.00E+00\n",
      " Successful solution\n",
      " \n",
      " ---------------------------------------------------\n",
      " Solver         :  APOPT (v1.0)\n",
      " Solution time  :   1.350000000093132E-002 sec\n",
      " Objective      :   -1561.96000000000     \n",
      " Successful solution\n",
      " ---------------------------------------------------\n",
      " \n",
      "x1: 10.0\n",
      "x2: 5.2\n"
     ]
    }
   ],
   "source": [
    "from gekko import GEKKO\n",
    "m = GEKKO() # create GEKKO model\n",
    "x1 = m.Var(integer=True,lb=-5,ub=10)\n",
    "# create Special Ordered Set variable\n",
    "x2 = m.sos1([0.5, 1.15, 2.6, 5.2])\n",
    "m.Minimize(4*x1**2-4*x2*x1**2+x2**2+x1**2-x1+1)\n",
    "m.options.SOLVER = 1 # APOPT solver\n",
    "m.solve()\n",
    "print('x1: ' + str(x1.value[0]))\n",
    "print('x2: ' + str(x2.value[0]))"
   ]
  }
 ],
 "metadata": {
  "interpreter": {
   "hash": "e7c37ba80a6e54a3d63188245ab5de6a3e0d381993bcb1990a7020536fc2299e"
  },
  "kernelspec": {
   "display_name": "Python 3.6.4 64-bit",
   "language": "python",
   "name": "python3"
  },
  "language_info": {
   "codemirror_mode": {
    "name": "ipython",
    "version": 3
   },
   "file_extension": ".py",
   "mimetype": "text/x-python",
   "name": "python",
   "nbconvert_exporter": "python",
   "pygments_lexer": "ipython3",
   "version": "3.6.4"
  },
  "orig_nbformat": 4
 },
 "nbformat": 4,
 "nbformat_minor": 2
}
