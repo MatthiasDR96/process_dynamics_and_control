{
 "cells": [
  {
   "cell_type": "markdown",
   "metadata": {},
   "source": [
    "# Cascade Control\n",
    "\n",
    "Cascade control is a hierarchy of control loops. The secondary (inner or lower-level) control must respond much faster than the primary control. Cascade control has a single final control element (FCE). The secondary control manipulated the FCE. The primary control manipulates the set point to the secondary control. In this cascade structure, the system responds faster to potential disturbances than a single controller. The requirement, however, is an additional measurement for the secondary controller."
   ]
  }
 ],
 "metadata": {
  "language_info": {
   "name": "python"
  },
  "orig_nbformat": 4
 },
 "nbformat": 4,
 "nbformat_minor": 2
}
