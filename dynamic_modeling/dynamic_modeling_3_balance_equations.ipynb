{
 "cells": [
  {
   "cell_type": "markdown",
   "metadata": {},
   "source": [
    "# Balance equations \n",
    "In engineering, there are 4 common balance equations from conservation principles including mass, momentum, energy, and species. General forms of each equation are shown below with the accumulation term on the left and inlet (in), outlet (out), generation (gen), and consumption (cons) terms on the right side of the equation.\n",
    "\n",
    "$$Accumulation=In−Out+Generation−Consumption$$"
   ]
  },
  {
   "cell_type": "markdown",
   "metadata": {},
   "source": [
    "### Mass Balance\n",
    "\n",
    "$$\\frac{dm}{dt} = \\frac{d(ρV)}{dt} = ∑\\dot{m}_{in} − ∑\\dot{m}_{out}$$\n",
    "\n",
    "### Species Balance\n",
    "A species balance tracks the number of moles $n$ of species $A$ in a control volume. The accumulation of $A$, $\\frac{d(nA)}{dt}$, in a control volume is calculated by inlet, outlet, reaction generation, and reaction consumption rates.\n",
    "\n",
    "$$\\frac{dn_{A}}{dt}=∑\\dot{n}_{A_{in}}−∑\\dot{n}_{A_{out}}+∑\\dot{n}_{A_{gen}}−∑\\dot{n}_{A_{cons}}$$\n",
    "\n",
    "The molar amount, $n_{A}$ is often measured as a concentration, $c_{A}$ and reaction rates are often expressed in terms of a specific reaction rate, $r_{A}$, as a molar rate of generation per volume.\n",
    "\n",
    "$$\\frac{dc_{A}V}{dt} = ∑c_{A_{in}}\\dot{V}_{in} − ∑c_{A_{out}}\\dot{V}_{out}+r_{A}V$$\n",
    "\n",
    "### Momentum Balance\n",
    "A momentum balance is the accumulation of momentum for a control volume equal to the sum of forces $F$ acting on that control volume.\n",
    "\n",
    "$$\\frac{d(mv)}{dt} = ∑F$$\n",
    "\n",
    "with $m$ as the mass in the control volume and $v$ as the velocity of the control volume.\n",
    "\n",
    "### Energy Balance\n",
    "\n",
    "$$\\frac{dE}{dt} = \\frac{d(U+K+P)}{dt}=∑\\dot{m}_{in}(\\hat{h}_{in} + \\frac{v^{2}_{in}}{2g_{c}} + \\frac{z_{in}g_{in}}{g_{c}})−∑\\dot{m}_{out}(\\hat{h}_{out} + \\frac{v^{2}_{out}}{2g_{c}} + \\frac{z_{out}g_{out}}{g_{c}}) + Q + W_{s}$$\n",
    "\n",
    "Kinetic (K) and potential (P) energy terms are omitted because the internal energy (due to temperature) is typically a much larger contribution than any elevation (z) or velocity (v) changes of a fluid for most chemical processes.\n",
    "\n",
    "$$\\frac{dh}{dt}=∑\\dot{m}_{in}\\hat{h}_{in} − ∑\\dot{m}_{out}\\hat{h}_{out} + Q + W_{s}$$\n",
    "\n",
    "The enthalpy, $h$, is related to temperature as $mc_{p}(T-T_{ref})$ where $c_{p}$ is the heat capacity. With a constant reference temperature $(T_{ref})$, this reduces to the following.\n",
    "\n",
    "$$mc_{p}\\frac{dT}{dt}=∑\\dot{m}_{in}c_{p}(T_{in}−T_{ref})−∑\\dot{m}_{out}c_{p}(T_{out}−T_{ref})+Q+W_{s}$$"
   ]
  },
  {
   "cell_type": "markdown",
   "metadata": {},
   "source": [
    "### Exercise\n",
    "\n",
    "Use a mass, species, and energy balance to describe the dynamic response in volume, concentration, and temperature of a well-mixed vessel. \n",
    "\n",
    "<img src=\"pictures/balance_eqn_diagram.png\" width=\"500\">\n",
    "\n",
    "The inlet $(q_{f})$ and outlet $(q)$ volumetric flowrates, feed concentration $(C_{a_{f}})$, and inlet temperature $(T_{f})$ can be adjusted. Initial conditions for the vessel are $V= 1.0 L$, $C_{a} = 0.0$ mol/L, and $T=350 K$. There is no reaction and no significant heat added by the mixer. There is a cooling jacket that can be used to adjust the outlet temperature. Show step changes in the process inputs."
   ]
  },
  {
   "cell_type": "code",
   "execution_count": 1,
   "metadata": {},
   "outputs": [],
   "source": [
    "import numpy as np\n",
    "import matplotlib.pyplot as plt\n",
    "from scipy.integrate import odeint"
   ]
  },
  {
   "cell_type": "code",
   "execution_count": 2,
   "metadata": {},
   "outputs": [],
   "source": [
    "# Define mixing model\n",
    "def vessel(x,t,q,qf,Caf,Tf):\n",
    "    # Inputs (4):\n",
    "    # qf  = Inlet Volumetric Flowrate (L/min)\n",
    "    # q   = Outlet Volumetric Flowrate (L/min)\n",
    "    # Caf = Feed Concentration (mol/L)\n",
    "    # Tf  = Feed Temperature (K)\n",
    "\n",
    "    # States (3):\n",
    "    # Volume (L)\n",
    "    V = x[0]\n",
    "    # Concentration of A (mol/L)\n",
    "    Ca = x[1]\n",
    "    # Temperature (K)\n",
    "    T = x[2]\n",
    "\n",
    "    # Parameters:\n",
    "    # Reaction\n",
    "    rA = 0.0\n",
    "\n",
    "    # Mass balance: volume derivative\n",
    "    dVdt = qf - q\n",
    "\n",
    "    # Species balance: concentration derivative\n",
    "    # Chain rule: d(V*Ca)/dt = Ca * dV/dt + V * dCa/dt\n",
    "    dCadt = (qf*Caf - q*Ca)/V - rA - (Ca*dVdt/V)\n",
    "\n",
    "    # Energy balance: temperature derivative\n",
    "    # Chain rule: d(V*T)/dt = T * dV/dt + V * dT/dt\n",
    "    dTdt = (qf*Tf - q*T)/V - (T*dVdt/V)\n",
    "\n",
    "    # Return derivatives\n",
    "    return [dVdt,dCadt,dTdt]"
   ]
  },
  {
   "cell_type": "code",
   "execution_count": 3,
   "metadata": {},
   "outputs": [],
   "source": [
    "# Initial Conditions for the States\n",
    "V0 = 1.0\n",
    "Ca0 = 0.0\n",
    "T0 = 350.0\n",
    "y0 = [V0,Ca0,T0]"
   ]
  },
  {
   "cell_type": "code",
   "execution_count": 4,
   "metadata": {},
   "outputs": [],
   "source": [
    "# Time Interval (min)\n",
    "t = np.linspace(0,10,100)"
   ]
  },
  {
   "cell_type": "code",
   "execution_count": 5,
   "metadata": {},
   "outputs": [],
   "source": [
    "# Inlet Volumetric Flowrate (L/min)\n",
    "qf = np.ones(len(t))* 5.2\n",
    "qf[50:] = 5.1"
   ]
  },
  {
   "cell_type": "code",
   "execution_count": 6,
   "metadata": {},
   "outputs": [],
   "source": [
    "# Outlet Volumetric Flowrate (L/min)\n",
    "q = np.ones(len(t))*5.0"
   ]
  },
  {
   "cell_type": "code",
   "execution_count": 7,
   "metadata": {},
   "outputs": [],
   "source": [
    "# Feed Concentration (mol/L)\n",
    "Caf = np.ones(len(t))*1.0\n",
    "Caf[30:] = 0.5"
   ]
  },
  {
   "cell_type": "code",
   "execution_count": 8,
   "metadata": {},
   "outputs": [],
   "source": [
    "# Feed Temperature (K)\n",
    "Tf = np.ones(len(t))*300.0\n",
    "Tf[70:] = 325.0"
   ]
  },
  {
   "cell_type": "code",
   "execution_count": 9,
   "metadata": {},
   "outputs": [],
   "source": [
    "# Storage for results\n",
    "V  = np.ones(len(t))*V0\n",
    "Ca = np.ones(len(t))*Ca0\n",
    "T  = np.ones(len(t))*T0"
   ]
  },
  {
   "cell_type": "code",
   "execution_count": 10,
   "metadata": {},
   "outputs": [],
   "source": [
    "# Loop through each time step\n",
    "for i in range(len(t)-1):\n",
    "    # Simulate\n",
    "    inputs = (q[i],qf[i],Caf[i],Tf[i])\n",
    "    ts = [t[i],t[i+1]]\n",
    "    y = odeint(vessel,y0,ts,args=inputs)\n",
    "    # Store results\n",
    "    V[i+1]  = y[-1][0]\n",
    "    Ca[i+1] = y[-1][1]\n",
    "    T[i+1]  = y[-1][2]\n",
    "    # Adjust initial condition for next loop\n",
    "    y0 = y[-1]"
   ]
  },
  {
   "cell_type": "code",
   "execution_count": 11,
   "metadata": {},
   "outputs": [],
   "source": [
    "# Construct results and save data file\n",
    "data = np.vstack((t,qf,q,Tf,Caf,V,Ca,T)) # vertical stack\n",
    "data = data.T             # transpose data\n",
    "np.savetxt('data.txt',data,delimiter=',')"
   ]
  },
  {
   "cell_type": "code",
   "execution_count": 12,
   "metadata": {},
   "outputs": [
    {
     "data": {
      "image/png": "[encoded data removed]",
      "text/plain": [
       "<Figure size 432x288 with 6 Axes>"
      ]
     },
     "metadata": {
      "needs_background": "light"
     },
     "output_type": "display_data"
    }
   ],
   "source": [
    "# Plot the inputs and results\n",
    "plt.figure()\n",
    "\n",
    "plt.subplot(3,2,1)\n",
    "plt.plot(t,qf,'b--',linewidth=3)\n",
    "plt.plot(t,q,'b:',linewidth=3)\n",
    "plt.ylabel('Flow Rates (L/min)')\n",
    "plt.legend(['Inlet','Outlet'],loc='best')\n",
    "\n",
    "plt.subplot(3,2,3)\n",
    "plt.plot(t,Caf,'r--',linewidth=3)\n",
    "plt.ylabel('Caf (mol/L)')\n",
    "plt.legend(['Feed Concentration'],loc='best')\n",
    "\n",
    "plt.subplot(3,2,5)\n",
    "plt.plot(t,Tf,'k--',linewidth=3)\n",
    "plt.ylabel('Tf (K)')\n",
    "plt.legend(['Feed Temperature'],loc='best')\n",
    "plt.xlabel('Time (min)')\n",
    "\n",
    "plt.subplot(3,2,2)\n",
    "plt.plot(t,V,'b-',linewidth=3)\n",
    "plt.ylabel('Volume (L)')\n",
    "plt.legend(['Volume'],loc='best')\n",
    "\n",
    "plt.subplot(3,2,4)\n",
    "plt.plot(t,Ca,'r-',linewidth=3)\n",
    "plt.ylabel('Ca (mol/L)')\n",
    "plt.legend(['Concentration'],loc='best')\n",
    "\n",
    "plt.subplot(3,2,6)\n",
    "plt.plot(t,T,'k-',linewidth=3)\n",
    "plt.ylabel('T (K)')\n",
    "plt.legend(['Temperature'],loc='best')\n",
    "plt.xlabel('Time (min)')\n",
    "\n",
    "plt.show()"
   ]
  }
 ],
 "metadata": {
  "interpreter": {
   "hash": "e7c37ba80a6e54a3d63188245ab5de6a3e0d381993bcb1990a7020536fc2299e"
  },
  "kernelspec": {
   "display_name": "Python 3.6.4 64-bit",
   "language": "python",
   "name": "python3"
  },
  "language_info": {
   "codemirror_mode": {
    "name": "ipython",
    "version": 3
   },
   "file_extension": ".py",
   "mimetype": "text/x-python",
   "name": "python",
   "nbconvert_exporter": "python",
   "pygments_lexer": "ipython3",
   "version": "3.6.4"
  },
  "orig_nbformat": 4
 },
 "nbformat": 4,
 "nbformat_minor": 2
}
