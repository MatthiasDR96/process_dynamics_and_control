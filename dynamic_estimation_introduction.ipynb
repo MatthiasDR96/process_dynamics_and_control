{
 "cells": [
  {
   "cell_type": "markdown",
   "metadata": {},
   "source": [
    "# Dynamic Estimation Introduction\n",
    "\n",
    "Dynamic estimation is a method to align data and model predictions for time-varying systems. Dynamic models and data rarely align perfectly because of several factors including limiting assumptions that were used to build the model, incorrect model parameters, data that is corrupted by measurement noise, instrument calibration problems, measurement delay, and many other factors. All of these factors may cause mismatch between predicted and measured values.\n",
    "\n",
    "The focus of this section is to develop methods with dynamic optimization to realign model predictions and measured values with the goal of estimating states and parameters. Another focus of this section is to understand model structure that can lead to poorly observable parameters and determine confidence regions for parameter estimates. The uncertainty analysis serves to not only predict unmeasured quantities but also to relate a confidence in those predictions.\n",
    "\n",
    "Dynamic estimation algorithms optimize model predictions over a prior time horizon of measurements. These state and parameter values may then be used to update the model for improved forward prediction in time to anticipate future dynamic events. The updated model allows dynamic optimization or control actions with increased confidence."
   ]
  },
  {
   "cell_type": "markdown",
   "metadata": {},
   "source": [
    "### Example 1\n",
    "\n",
    "Estimate the parameter $k$ in the exponential decay equation:\n",
    "\n",
    "$$\\frac{dx}{dt} = -kx$$\n",
    "\n",
    "by minimizing the error between the predicted and measured $x$ values. "
   ]
  },
  {
   "cell_type": "code",
   "execution_count": 3,
   "metadata": {},
   "outputs": [
    {
     "data": {
      "image/png": "[encoded data removed]",
      "text/plain": [
       "<Figure size 432x288 with 1 Axes>"
      ]
     },
     "metadata": {
      "needs_background": "light"
     },
     "output_type": "display_data"
    }
   ],
   "source": [
    "from gekko import GEKKO\n",
    "\n",
    "t_data = [0, 0.1, 0.2, 0.4, 0.8, 1]\n",
    "x_data = [2.0,  1.6,  1.2, 0.7,  0.3,  0.15]\n",
    "\n",
    "m = GEKKO(remote=False)\n",
    "m.time = t_data\n",
    "x = m.CV(value=x_data); x.FSTATUS = 1  # fit to measurement\n",
    "k = m.FV(); k.STATUS = 1               # adjustable parameter\n",
    "m.Equation(x.dt()== -k * x)            # differential equation\n",
    "\n",
    "m.options.IMODE = 5   # dynamic estimation\n",
    "m.options.NODES = 5   # collocation nodes\n",
    "m.solve(disp=False)   # display solver output\n",
    "k = k.value[0]\n",
    "\n",
    "import numpy as np\n",
    "import matplotlib.pyplot as plt  # plot solution\n",
    "plt.plot(m.time,x.value,'bo',\\\n",
    "         label='Predicted (k='+str(np.round(k,2))+')')\n",
    "plt.plot(m.time,x_data,'rx',label='Measured')\n",
    "# plot exact solution\n",
    "t = np.linspace(0,1); xe = 2*np.exp(-k*t)\n",
    "plt.plot(t,xe,'k:',label='Exact Solution')\n",
    "plt.legend()\n",
    "plt.xlabel('Time'), plt.ylabel('Value')\n",
    "plt.show()"
   ]
  },
  {
   "cell_type": "markdown",
   "metadata": {},
   "source": [
    "The approach can also be extended to multiple data sets and when the experimental values are at different times."
   ]
  },
  {
   "cell_type": "code",
   "execution_count": 4,
   "metadata": {},
   "outputs": [
    {
     "name": "stdout",
     "output_type": "stream",
     "text": [
      "       x1    x2\n",
      "Time           \n",
      "0.00  2.0  3.60\n",
      "0.10  1.6   NaN\n",
      "0.15  NaN  2.25\n",
      "0.20  1.2   NaN\n",
      "0.25  NaN  1.75\n"
     ]
    },
    {
     "ename": "AttributeError",
     "evalue": "'GEKKO' object has no attribute 'free_initial'",
     "output_type": "error",
     "traceback": [
      "\u001b[1;31m---------------------------------------------------------------------------\u001b[0m",
      "\u001b[1;31mAttributeError\u001b[0m                            Traceback (most recent call last)",
      "\u001b[1;32m<ipython-input-4-9d7df852f12f>\u001b[0m in \u001b[0;36m<module>\u001b[1;34m\u001b[0m\n\u001b[0;32m     45\u001b[0m \u001b[0mk\u001b[0m \u001b[1;33m=\u001b[0m \u001b[0mm\u001b[0m\u001b[1;33m.\u001b[0m\u001b[0mFV\u001b[0m\u001b[1;33m(\u001b[0m\u001b[1;33m)\u001b[0m\u001b[1;33m;\u001b[0m \u001b[0mk\u001b[0m\u001b[1;33m.\u001b[0m\u001b[0mSTATUS\u001b[0m \u001b[1;33m=\u001b[0m \u001b[1;36m1\u001b[0m               \u001b[1;31m# adjustable parameter\u001b[0m\u001b[1;33m\u001b[0m\u001b[0m\n\u001b[0;32m     46\u001b[0m \u001b[1;32mfor\u001b[0m \u001b[0mi\u001b[0m \u001b[1;32min\u001b[0m \u001b[0mrange\u001b[0m\u001b[1;33m(\u001b[0m\u001b[1;36m2\u001b[0m\u001b[1;33m)\u001b[0m\u001b[1;33m:\u001b[0m\u001b[1;33m\u001b[0m\u001b[0m\n\u001b[1;32m---> 47\u001b[1;33m     \u001b[0mm\u001b[0m\u001b[1;33m.\u001b[0m\u001b[0mfree_initial\u001b[0m\u001b[1;33m(\u001b[0m\u001b[0mx\u001b[0m\u001b[1;33m[\u001b[0m\u001b[0mi\u001b[0m\u001b[1;33m]\u001b[0m\u001b[1;33m)\u001b[0m               \u001b[1;31m# calculate initial condition\u001b[0m\u001b[1;33m\u001b[0m\u001b[0m\n\u001b[0m\u001b[0;32m     48\u001b[0m     \u001b[0mm\u001b[0m\u001b[1;33m.\u001b[0m\u001b[0mEquation\u001b[0m\u001b[1;33m(\u001b[0m\u001b[0mx\u001b[0m\u001b[1;33m[\u001b[0m\u001b[0mi\u001b[0m\u001b[1;33m]\u001b[0m\u001b[1;33m.\u001b[0m\u001b[0mdt\u001b[0m\u001b[1;33m(\u001b[0m\u001b[1;33m)\u001b[0m\u001b[1;33m==\u001b[0m \u001b[1;33m-\u001b[0m\u001b[0mk\u001b[0m \u001b[1;33m*\u001b[0m \u001b[0mx\u001b[0m\u001b[1;33m[\u001b[0m\u001b[0mi\u001b[0m\u001b[1;33m]\u001b[0m\u001b[1;33m)\u001b[0m  \u001b[1;31m# differential equations\u001b[0m\u001b[1;33m\u001b[0m\u001b[0m\n\u001b[0;32m     49\u001b[0m     \u001b[0mm\u001b[0m\u001b[1;33m.\u001b[0m\u001b[0mMinimize\u001b[0m\u001b[1;33m(\u001b[0m\u001b[0mzm\u001b[0m\u001b[1;33m[\u001b[0m\u001b[0mi\u001b[0m\u001b[1;33m]\u001b[0m\u001b[1;33m*\u001b[0m\u001b[1;33m(\u001b[0m\u001b[0mx\u001b[0m\u001b[1;33m[\u001b[0m\u001b[0mi\u001b[0m\u001b[1;33m]\u001b[0m\u001b[1;33m-\u001b[0m\u001b[0mxm\u001b[0m\u001b[1;33m[\u001b[0m\u001b[0mi\u001b[0m\u001b[1;33m]\u001b[0m\u001b[1;33m)\u001b[0m\u001b[1;33m**\u001b[0m\u001b[1;36m2\u001b[0m\u001b[1;33m)\u001b[0m  \u001b[1;31m# objectives\u001b[0m\u001b[1;33m\u001b[0m\u001b[0m\n",
      "\u001b[1;31mAttributeError\u001b[0m: 'GEKKO' object has no attribute 'free_initial'"
     ]
    }
   ],
   "source": [
    "from gekko import GEKKO\n",
    "import numpy as np\n",
    "import pandas as pd\n",
    "import matplotlib.pyplot as plt\n",
    "\n",
    "# data set 1\n",
    "t_data1 = [0.0,  0.1,  0.2, 0.4, 0.8, 1.00]\n",
    "x_data1 = [2.0,  1.6,  1.2, 0.7, 0.3, 0.15]\n",
    "\n",
    "# data set 2\n",
    "t_data2 = [0.0,  0.15, 0.25, 0.45, 0.85, 0.95]\n",
    "x_data2 = [3.6,  2.25, 1.75, 1.00, 0.35, 0.20]\n",
    "\n",
    "# combine with dataframe join\n",
    "data1 = pd.DataFrame({'Time':t_data1,'x1':x_data1})\n",
    "data2 = pd.DataFrame({'Time':t_data2,'x2':x_data2})\n",
    "data1.set_index('Time', inplace=True)\n",
    "data2.set_index('Time', inplace=True)\n",
    "data = data1.join(data2,how='outer')\n",
    "print(data.head())\n",
    "\n",
    "# indicate which points are measured\n",
    "z1 = (data['x1']==data['x1']).astype(int) # 0 if NaN\n",
    "z2 = (data['x2']==data['x2']).astype(int) # 1 if number\n",
    "\n",
    "# replace NaN with any number (0)\n",
    "data.fillna(0,inplace=True)\n",
    "\n",
    "m = GEKKO(remote=False)\n",
    "\n",
    "# measurements\n",
    "xm = m.Array(m.Param,2)\n",
    "xm[0].value = data['x1'].values\n",
    "xm[1].value = data['x2'].values\n",
    "\n",
    "# index for objective (0=not measured, 1=measured)\n",
    "zm = m.Array(m.Param,2)\n",
    "zm[0].value=z1\n",
    "zm[1].value=z2\n",
    "\n",
    "m.time = data.index\n",
    "x = m.Array(m.Var,2)                   # fit to measurement\n",
    "x[0].value=x_data1[0]; x[1].value=x_data2[0]\n",
    "\n",
    "k = m.FV(); k.STATUS = 1               # adjustable parameter\n",
    "for i in range(2):\n",
    "    m.free_initial(x[i])               # calculate initial condition\n",
    "    m.Equation(x[i].dt()== -k * x[i])  # differential equations\n",
    "    m.Minimize(zm[i]*(x[i]-xm[i])**2)  # objectives\n",
    "\n",
    "m.options.IMODE = 5   # dynamic estimation\n",
    "m.options.NODES = 2   # collocation nodes\n",
    "m.solve(disp=True)    # solve\n",
    "k = k.value[0]\n",
    "print('k = '+str(k))\n",
    "\n",
    "# plot solution\n",
    "plt.plot(m.time,x[0].value,'b.--',label='Predicted 1')\n",
    "plt.plot(m.time,x[1].value,'r.--',label='Predicted 2')\n",
    "plt.plot(t_data1,x_data1,'bx',label='Measured 1')\n",
    "plt.plot(t_data2,x_data2,'rx',label='Measured 2')\n",
    "plt.legend(); plt.xlabel('Time'); plt.ylabel('Value')\n",
    "plt.xlabel('Time');\n",
    "plt.show()"
   ]
  },
  {
   "cell_type": "markdown",
   "metadata": {},
   "source": [
    "### Example 2\n",
    "\n",
    "Estimate the parameter $a, b, c, d$ in the differential equation:\n",
    "\n",
    "$$\\frac{d^3x}{dt^3} = a\\frac{d^2x}{dt^2}+b\\frac{dx}{dt}+c x+d$$\n",
    "\n",
    "by minimizing the error between the predicted and measured $x$ values. The $x$ values are measured at the following time intervals. Use an initial condition of $x=2$ that matches the data. Create new states $y=\\frac{dx}{dt}$ and $z=\\frac{dy}{dt}$ for the higher order derivative terms.\n",
    "\n",
    "$$\\frac{dx}{dt} = y$$\n",
    "$$\\frac{dy}{dt} = z$$\n",
    "$$\\frac{dz}{dt} = az+by+cx+d$$\n"
   ]
  },
  {
   "cell_type": "code",
   "execution_count": null,
   "metadata": {},
   "outputs": [
    {
     "name": "stdout",
     "output_type": "stream",
     "text": [
      "-37.699565828 -2310.5055552 -6173.4615908 123.00783964\n"
     ]
    },
    {
     "data": {
      "image/png": "[encoded data removed]",
      "text/plain": [
       "<Figure size 432x288 with 1 Axes>"
      ]
     },
     "metadata": {
      "needs_background": "light"
     },
     "output_type": "display_data"
    }
   ],
   "source": [
    "from gekko import GEKKO\n",
    "\n",
    "t_data = [0,0.1,0.2,0.4,0.8,1,1.5,2,2.5,3,3.5,4]\n",
    "x_data = [2.0,1.6,1.2,0.7,0.3,0.15,0.1,\\\n",
    "          0.05,0.03,0.02,0.015,0.01]\n",
    "\n",
    "m = GEKKO()\n",
    "m.time = t_data\n",
    "\n",
    "# states\n",
    "x = m.CV(value=x_data); x.FSTATUS = 1  # fit to measurement\n",
    "y,z = m.Array(m.Var,2,value=0)\n",
    "\n",
    "# adjustable parameters\n",
    "a,b,c,d = m.Array(m.FV,4)\n",
    "a.STATUS=1; b.STATUS=1; c.STATUS=1; d.STATUS=1\n",
    "\n",
    "# differential equation\n",
    "#      Original:  x''' = a*x'' + b x' + c x + d\n",
    "#      Transform: y = x'\n",
    "#                 z = y'\n",
    "#                 z' = a*z + b*y + c*x + d\n",
    "m.Equations([y==x.dt(),z==y.dt()])\n",
    "m.Equation(z.dt()==a*z+b*y+c*x+d) # differential equation\n",
    "\n",
    "m.options.IMODE = 5   # dynamic estimation\n",
    "m.options.NODES = 3   # collocation nodes\n",
    "m.solve(disp=False)   # display solver output\n",
    "print(a.value[0],b.value[0],c.value[0],d.value[0])\n",
    "\n",
    "import matplotlib.pyplot as plt  # plot solution\n",
    "plt.plot(m.time,x.value,'bo',label='Predicted')\n",
    "plt.plot(m.time,x_data,'rx',label='Measured')\n",
    "plt.legend()\n",
    "plt.xlabel('Time'), plt.ylabel('Value')\n",
    "plt.show()\n"
   ]
  }
 ],
 "metadata": {
  "interpreter": {
   "hash": "e7c37ba80a6e54a3d63188245ab5de6a3e0d381993bcb1990a7020536fc2299e"
  },
  "kernelspec": {
   "display_name": "Python 3.6.4 64-bit",
   "language": "python",
   "name": "python3"
  },
  "language_info": {
   "codemirror_mode": {
    "name": "ipython",
    "version": 3
   },
   "file_extension": ".py",
   "mimetype": "text/x-python",
   "name": "python",
   "nbconvert_exporter": "python",
   "pygments_lexer": "ipython3",
   "version": "3.6.4"
  },
  "orig_nbformat": 4
 },
 "nbformat": 4,
 "nbformat_minor": 2
}
