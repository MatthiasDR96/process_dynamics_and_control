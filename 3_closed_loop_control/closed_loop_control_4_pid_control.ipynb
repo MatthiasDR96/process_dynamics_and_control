{
 "cells": [
  {
   "cell_type": "markdown",
   "metadata": {},
   "source": [
    "# Proportional Integral Derivative (PID)\n",
    "\n",
    "Proportional Integral Derivative (PID) control automatically adjusts a control output based on the difference between a set point (SP) and a measured process variable (PV). The value of the controller output $u(t)$ is transferred as the system input.\n",
    "\n",
    "$$e(t) = SP-PV$$\n",
    "\n",
    "$$u(t) = u_{bias} + K_c \\, e(t) + \\frac{K_c}{\\tau_I}\\int_0^t e(t)dt - K_c \\tau_D \\frac{d(PV)}{dt}$$\n",
    "\n",
    "The $u_{bias}$ term is a constant that is typically set to the value of $u(t)$ when the controller is first switched from manual to automatic mode. This gives \"bumpless\" transfer if the error is zero when the controller is turned on. The three tuning values for a PID controller are the controller gain, $K_{c}$, the integral time constant $\\tau_{I}$, and the derivative time constant $\\tau_{D}$. The value of $K_{c}$ is a multiplier on the proportional error and integral term and a higher value makes the controller more aggressive at responding to errors away from the set point. The integral time constant $\\tau_{c}$ (also known as integral reset time) must be positive and has units of time. As $\\tau_{I}$ gets smaller, the integral term is larger because $\\tau_{I}$ is in the denominator. Derivative time constant $\\tau_{D}$ also has units of time and must be positive. The set point (SP) is the target value and process variable (PV) is the measured value that may deviate from the desired value. The error from the set point is the difference between the SP and PV and is defined as."
   ]
  },
  {
   "cell_type": "markdown",
   "metadata": {},
   "source": [
    "### Overview of PID Control\n",
    "\n",
    "PI or PID controller is best suited for non-integrating processes, meaning any process that eventually returns to the same output given the same set of inputs and disturbances. A P-only controller is best suited to integrating processes. Integral action is used to remove offset and can be thought of as an adjustable $u_{bias}$."
   ]
  },
  {
   "cell_type": "markdown",
   "metadata": {},
   "source": [
    "### Discrete PID Controller\n",
    "\n",
    "Digital controllers are implemented with discrete sampling periods and a discrete form of the PID equation is needed to approximate the integral of the error and the derivative. This modification replaces the continuous form of the integral with a summation of the error and uses $\\Delta t$ as the time between sampling instances and $n_{t}$ as the number of sampling instances. It also replaces the derivative with either a filtered version of the derivative or another method to approximate the instantaneous slope of the (PV).\n",
    "\n",
    "$$u(t) = u_{bias} + K_c \\, e(t) + \\frac{K_c}{\\tau_I}\\sum_{i=1}^{n_t} e_i(t)\\Delta t  - K_c \\tau_D \\frac{PV_{n_t}-PV_{n_t-1}}{\\Delta t}$$\n",
    "\n",
    "The same tuning correlations are used for both the continuous and discrete forms of the PID controller."
   ]
  },
  {
   "cell_type": "markdown",
   "metadata": {},
   "source": [
    "### IMC Tuning Correlations\n",
    "\n",
    "The most common tuning correlation for PID control is the IMC (Internal Model Control) rules. IMC is an extension of lambda tuning by accounting for time delay. The parameters $K_{c}, \\tau_{p}$, and $\\theta_{p}$ are obtained by fitting dynamic input and output data to a first-order plus dead-time (FOPDT) model.\n",
    "\n",
    "$$\\mathrm{Aggressive\\,Tuning:} \\quad \\tau_c = \\max \\left( 0.1 \\tau_p, 0.8 \\theta_p \\right)$$\n",
    "$$\\mathrm{Moderate\\,Tuning:} \\quad \\tau_c = \\max \\left( 1.0 \\tau_p, 8.0 \\theta_p \\right)$$\n",
    "$$\\mathrm{Conservative\\,Tuning:} \\quad \\tau_c = \\max \\left( 10.0 \\tau_p, 80.0 \\theta_p \\right)$$\n",
    "$$K_c = \\frac{1}{K_p}\\frac{\\tau_p+0.5\\theta_p}{\\left( \\tau_c + 0.5\\theta_p \\right)} \\quad \\quad \\tau_I = \\tau_p + 0.5 \\theta_p \\quad \\quad \\tau_D = \\frac{\\tau_p\\theta_p}{2\\tau_p + \\theta_p}$$"
   ]
  },
  {
   "cell_type": "markdown",
   "metadata": {},
   "source": [
    "### Optional Derivative Filter\n",
    "\n",
    "The optional parameter $\\alpha$ is a derivative filter constant. The filter reduces the effect of measurement noise on the derivative term that can lead to controller output amplification of the noise.\n",
    "\n",
    "$$\\alpha = \\frac{\\tau_c\\left(\\tau_p+0.5\\theta_p\\right)}{\\tau_p\\left(\\tau_c+\\theta_p\\right)}$$\n",
    "\n",
    "The PID with the filter is augmented as:\n",
    "\n",
    "$$u(t) = u_{bias} + K_c \\, e(t) + \\frac{K_c}{\\tau_I}\\int_0^t e(t)dt - K_c \\tau_D \\frac{d(PV)}{dt} - \\alpha \\tau_D \\frac{du(t)}{dt}$$"
   ]
  },
  {
   "cell_type": "markdown",
   "metadata": {},
   "source": [
    "### Simple Tuning Rules\n",
    "\n",
    "Note that with moderate tuning and negligible dead-time $(\\theta_p$ to 0 and $\\tau_c = 1.0 \\tau_p)$, IMC reduces to simple tuning correlations that are easy to recall without a reference book.\n",
    "\n",
    "$$K_c = \\frac{1}{K_p} \\quad \\quad \\tau_I = \\tau_p \\quad \\quad \\tau_D = 0 \\quad \\quad \\mathrm{Simple\\,tuning\\,correlations}$$"
   ]
  },
  {
   "cell_type": "markdown",
   "metadata": {},
   "source": [
    "### Anti-Reset Windup\n",
    "\n",
    "An important feature of a controller with an integral term is to consider the case where the controller output $u(t)$ saturates at an upper or lower bound for an extended period of time. This causes the integral term to accumulate to a large summation that causes the controller to stay at the saturation limit until the integral summation is reduced. Anti-reset windup is that the integral term does not accumulate if the controller output is saturated at an upper or lower limit."
   ]
  },
  {
   "cell_type": "markdown",
   "metadata": {},
   "source": [
    "### Derivative Kick\n",
    "\n",
    "Although the \"derivative\" term implies $(de(t))/dt$, the derivative of the process variable $(d(PV))/dt$ is used in practice to avoid a phenomena termed \"derivative kick\". Derivative kick occurs because the value of the error changes suddenly whenever the set point is adjusted. The derivative of a sudden jump in the error causes the derivative of the error to be instantaneously large and causes the controller output to saturate for one cycle at either an upper or lower bound. While this momentary jump isn't typically a problem for most systems, a sudden saturation of the controller output can put undue stress on the final control element or potentially disturb the process.\n",
    "\n",
    "To overcome derivative kick, it is assumed that the set point is constant with $(d(SP))/dt=0$.\n",
    "\n",
    "$$\\frac{de(t)}{dt} = \\frac{d\\left(SP-PV\\right)}{dt} = \\frac{d\\left(SP\\right)}{dt} - \\frac{\\left(PV\\right)}{dt} = - \\frac{\\left(PV\\right)}{dt}$$\n",
    "\n",
    "This modification avoids derivative kick but keeps a derivative term in the PID equation."
   ]
  },
  {
   "cell_type": "code",
   "execution_count": 4,
   "metadata": {},
   "outputs": [
    {
     "data": {
      "application/vnd.jupyter.widget-view+json": {
       "model_id": "ca1ce6f6681d4e87aa611077fd41adff",
       "version_major": 2,
       "version_minor": 0
      },
      "text/plain": [
       "interactive(children=(FloatSlider(value=0.1, description='Kc', max=1.0, min=-0.2, step=0.05), FloatSlider(valu…"
      ]
     },
     "metadata": {},
     "output_type": "display_data"
    },
    {
     "data": {
      "text/plain": [
       "<function __main__.pidPlot(Kc, tauI, tauD)>"
      ]
     },
     "execution_count": 4,
     "metadata": {},
     "output_type": "execute_result"
    }
   ],
   "source": [
    "import numpy as np\n",
    "%matplotlib inline\n",
    "import matplotlib.pyplot as plt\n",
    "from scipy.integrate import odeint\n",
    "import ipywidgets as wg\n",
    "from IPython.display import display\n",
    "\n",
    "n = 100 # time points to plot\n",
    "tf = 20.0 # final time\n",
    "SP_start = 2.0 # time of set point change\n",
    "\n",
    "def process(y,t,u):\n",
    "    Kp = 4.0\n",
    "    taup = 3.0\n",
    "    thetap = 1.0\n",
    "    if t<(thetap+SP_start):\n",
    "        dydt = 0.0  # time delay\n",
    "    else:\n",
    "        dydt = (1.0/taup) * (-y + Kp * u)\n",
    "    return dydt\n",
    "\n",
    "def pidPlot(Kc,tauI,tauD):\n",
    "    t = np.linspace(0,tf,n) # create time vector\n",
    "    P= np.zeros(n)          # initialize proportional term\n",
    "    I = np.zeros(n)         # initialize integral term\n",
    "    D = np.zeros(n)         # initialize derivative term\n",
    "    e = np.zeros(n)         # initialize error\n",
    "    OP = np.zeros(n)        # initialize controller output\n",
    "    PV = np.zeros(n)        # initialize process variable\n",
    "    SP = np.zeros(n)        # initialize setpoint\n",
    "    SP_step = int(SP_start/(tf/(n-1))+1) # setpoint start\n",
    "    SP[0:SP_step] = 0.0     # define setpoint\n",
    "    SP[SP_step:n] = 4.0     # step up\n",
    "    y0 = 0.0                # initial condition\n",
    "    # loop through all time steps\n",
    "    for i in range(1,n):\n",
    "        # simulate process for one time step\n",
    "        ts = [t[i-1],t[i]]         # time interval\n",
    "        y = odeint(process,y0,ts,args=(OP[i-1],))  # compute next step\n",
    "        y0 = y[1]                  # record new initial condition\n",
    "        # calculate new OP with PID\n",
    "        PV[i] = y[1]               # record PV\n",
    "        e[i] = SP[i] - PV[i]       # calculate error = SP - PV\n",
    "        dt = t[i] - t[i-1]         # calculate time step\n",
    "        P[i] = Kc * e[i]           # calculate proportional term\n",
    "        I[i] = I[i-1] + (Kc/tauI) * e[i] * dt  # calculate integral term\n",
    "        D[i] = -Kc * tauD * (PV[i]-PV[i-1])/dt # calculate derivative term\n",
    "        OP[i] = P[i] + I[i] + D[i] # calculate new controller output\n",
    "        \n",
    "    # plot PID response\n",
    "    plt.figure(1,figsize=(15,7))\n",
    "    plt.subplot(2,2,1)\n",
    "    plt.plot(t,SP,'k-',linewidth=2,label='Setpoint (SP)')\n",
    "    plt.plot(t,PV,'r:',linewidth=2,label='Process Variable (PV)')\n",
    "    plt.legend(loc='best')\n",
    "    plt.subplot(2,2,2)\n",
    "    plt.plot(t,P,'g.-',linewidth=2,label=r'Proportional = $K_c \\; e(t)$')\n",
    "    plt.plot(t,I,'b-',linewidth=2,label=r'Integral = $\\frac{K_c}{\\tau_I} \\int_{i=0}^{n_t} e(t) \\; dt $')\n",
    "    plt.plot(t,D,'r--',linewidth=2,label=r'Derivative = $-K_c \\tau_D \\frac{d(PV)}{dt}$')    \n",
    "    plt.legend(loc='best')\n",
    "    plt.subplot(2,2,3)\n",
    "    plt.plot(t,e,'m--',linewidth=2,label='Error (e=SP-PV)')\n",
    "    plt.legend(loc='best')\n",
    "    plt.subplot(2,2,4)\n",
    "    plt.plot(t,OP,'b--',linewidth=2,label='Controller Output (OP)')\n",
    "    plt.legend(loc='best')\n",
    "    plt.xlabel('time')\n",
    "    \n",
    "Kc_slide = wg.FloatSlider(value=0.1,min=-0.2,max=1.0,step=0.05)\n",
    "tauI_slide = wg.FloatSlider(value=4.0,min=0.01,max=5.0,step=0.1)\n",
    "tauD_slide = wg.FloatSlider(value=0.0,min=0.0,max=1.0,step=0.1)\n",
    "wg.interact(pidPlot, Kc=Kc_slide, tauI=tauI_slide, tauD=tauD_slide)"
   ]
  },
  {
   "cell_type": "markdown",
   "metadata": {},
   "source": [
    "Plot the error, integral of error, and derivative of the PV for the following response. Show the value of the PID controller output and the contributions of each term to the overall output."
   ]
  },
  {
   "cell_type": "code",
   "execution_count": 5,
   "metadata": {},
   "outputs": [
    {
     "data": {
      "image/png": "[encoded data removed]",
      "text/plain": [
       "<Figure size 432x288 with 1 Axes>"
      ]
     },
     "metadata": {
      "needs_background": "light"
     },
     "output_type": "display_data"
    }
   ],
   "source": [
    "# Import modules\n",
    "import numpy as np\n",
    "import matplotlib.pyplot as plt\n",
    "from scipy.integrate import odeint\n",
    "\n",
    "# process model\n",
    "Kp = 3.0\n",
    "taup = 5.0\n",
    "def process(y,t,u,Kp,taup):\n",
    "    # Kp = process gain\n",
    "    # taup = process time constant\n",
    "    dydt = -y/taup + Kp/taup * u\n",
    "    return dydt\n",
    "\n",
    "# Specify number of steps\n",
    "ns = 300\n",
    "\n",
    "# Define time points\n",
    "t = np.linspace(0,ns/10,ns+1)\n",
    "delta_t = t[1]-t[0]\n",
    "\n",
    "# Storage for recording values\n",
    "op = np.zeros(ns+1)  # controller output\n",
    "pv = np.zeros(ns+1)  # process variable\n",
    "e = np.zeros(ns+1)   # error\n",
    "ie = np.zeros(ns+1)  # integral of the error\n",
    "dpv = np.zeros(ns+1) # derivative of the pv\n",
    "P = np.zeros(ns+1)   # proportional\n",
    "I = np.zeros(ns+1)   # integral\n",
    "D = np.zeros(ns+1)   # derivative\n",
    "sp = np.zeros(ns+1)  # set point\n",
    "sp[25:] = 10\n",
    "\n",
    "# PID (starting point)\n",
    "Kc = 1.0/Kp\n",
    "tauI = taup\n",
    "tauD = 0.0\n",
    "\n",
    "# PID (tuning)\n",
    "Kc = Kc * 1\n",
    "tauI = tauI / 1\n",
    "tauD = 1.0\n",
    "\n",
    "# Upper and Lower limits on OP\n",
    "op_hi = 10.0\n",
    "op_lo = 0.0\n",
    "\n",
    "# Loop through time steps    \n",
    "for i in range(0,ns):\n",
    "\n",
    "    # Error\n",
    "    e[i] = sp[i] - pv[i]\n",
    "\n",
    "    # Calculate integral and derivative terms\n",
    "    if i >= 1: \n",
    "        dpv[i] = (pv[i]-pv[i-1])/delta_t\n",
    "        ie[i] = ie[i-1] + e[i] * delta_t\n",
    "\n",
    "    # PID control\n",
    "    P[i] = Kc * e[i]\n",
    "    I[i] = Kc/tauI * ie[i]\n",
    "    D[i] = - Kc * tauD * dpv[i]\n",
    "    op[i] = op[0] + P[i] + I[i] + D[i]\n",
    "\n",
    "    # Limits\n",
    "    if op[i] > op_hi:  # check upper limit\n",
    "        op[i] = op_hi\n",
    "        ie[i] = ie[i] - e[i] * delta_t # anti-reset windup\n",
    "    if op[i] < op_lo:  # check lower limit\n",
    "        op[i] = op_lo\n",
    "        ie[i] = ie[i] - e[i] * delta_t # anti-reset windup\n",
    "\n",
    "    # Integrate timestep\n",
    "    y = odeint(process,pv[i],[0,delta_t],args=(op[i],Kp,taup))\n",
    "\n",
    "    # Set new start point\n",
    "    pv[i+1] = y[-1]\n",
    "\n",
    "# Save last point\n",
    "op[ns] = op[ns-1]\n",
    "ie[ns] = ie[ns-1]\n",
    "P[ns] = P[ns-1]\n",
    "I[ns] = I[ns-1]\n",
    "D[ns] = D[ns-1]\n",
    "\n",
    "# plot results\n",
    "plt.figure(1)\n",
    "plt.plot(t,sp,'k-',linewidth=2)\n",
    "plt.plot(t,pv,'b--',linewidth=3)\n",
    "plt.legend(['Set Point (SP)','Process Variable (PV)'],loc='best')\n",
    "plt.ylabel('Process')\n",
    "plt.ylim([-0.1,12])\n",
    "plt.xlabel('Time')\n",
    "plt.show()"
   ]
  }
 ],
 "metadata": {
  "interpreter": {
   "hash": "e7c37ba80a6e54a3d63188245ab5de6a3e0d381993bcb1990a7020536fc2299e"
  },
  "kernelspec": {
   "display_name": "Python 3.6.4 64-bit",
   "language": "python",
   "name": "python3"
  },
  "language_info": {
   "codemirror_mode": {
    "name": "ipython",
    "version": 3
   },
   "file_extension": ".py",
   "mimetype": "text/x-python",
   "name": "python",
   "nbconvert_exporter": "python",
   "pygments_lexer": "ipython3",
   "version": "3.6.4"
  },
  "orig_nbformat": 4
 },
 "nbformat": 4,
 "nbformat_minor": 2
}
