{
 "cells": [
  {
   "cell_type": "markdown",
   "metadata": {},
   "source": [
    "# Derive Transient Balance Equations\n",
    "\n",
    "### Exercise 1: Mixer Transient Species Balance\n",
    "\n",
    "<img src=\"../pictures/mixer_2_inlets.png\" width=\"500\">\n",
    "\n",
    "There are two inlet streams to a well-mixed and constant volume vessel. The flow rate is (qi) and concentration is (ci) for all streams (i=1,2,3). Derive a dynamic balance equation for outlet concentration and vessel liquid volume that relates to volumetric flow rates and inlet concentrations. Follow the procedure to build a dynamic model in the modeling introduction. For the model equations, use a transient mass and species balance as shown in balance equations. State any assumptions that are needed. Simplify the equations by eliminating any unnecessary terms and express the final equations in terms of the quantities on the diagram. There is no need to simulate the dynamic response, only derive the form of the equations.\n",
    "\n",
    "### Exercise 2: Mixer Transient Energy Balance\n",
    "\n",
    "<img src=\"../pictures/mixer_energy_balance.png\" width=\"500\">\n",
    "\n",
    "A vessel has one inlet and one outlet stream as shown in the diagram. Derive an expression for the temperature in a vessel. The energy balance should consider heat loss due to convective heat transfer to ambient air at temperature Ta and heat transfer to the cooling jacket fluid at temperature Tc. There is shaft work \n",
    "W\n",
    "s\n",
    " but no chemical reaction. Reduce this energy balance by eliminating any terms and simplifying the expression. The liquid heat capacity and density are constant for all streams."
   ]
  }
 ],
 "metadata": {
  "language_info": {
   "name": "python"
  },
  "orig_nbformat": 4
 },
 "nbformat": 4,
 "nbformat_minor": 2
}
