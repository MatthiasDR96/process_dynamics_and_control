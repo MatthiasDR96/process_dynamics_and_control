{
 "cells": [
  {
   "cell_type": "markdown",
   "metadata": {},
   "source": [
    "# Integer Linear Programming\n",
    "\n",
    "Integer Linear Programming (ILP) is a type of optimization problem where the variables are integer values and the objective function and equations are linear.\n",
    "\n",
    "$$\\begin{align} & \\text{maximize}   && \\mathbf{c}^\\mathrm{T} \\mathbf{x}\\\\ & \\text{subject to} && A \\mathbf{x} \\le \\mathbf{b} \\\\ &  && \\mathbf{x} \\ge \\mathbf{0} \\\\ &&& \\mathbf{x} \\in \\mathbb{Z}^n \\end{align}$$\n",
    "\n",
    "A Mixed-Integer Linear Programming (MILP) problem has continuous and integer variables. Mixed-Integer Nonlinear Programming (MINLP) also includes nonlinear equations and requires specialized MINLP solvers such as APOPT. MINLP solvers can also solve MILP or ILP problems although other solvers such as CPLEX, Gurobi, or FICO Xpress are specialized commercial solvers for MILP. APMonitor and GEKKO solve MINLP problems. The following integer linear programming (ILP) problem has a two potential maximum values at (1,2) and (2,2). \n",
    "\n",
    "$$\\begin{align} \\max  & \\text{ } y \\\\ -x +y & \\leq 1  \\\\ 3x +2y & \\leq 12 \\\\ 2x +3y & \\leq 12 \\\\ x,y & \\ge 0 \\\\ x,y & \\in \\mathbb{Z} \\end{align}$$\n",
    "\n",
    "<img src=\"pictures/integer_linear_programming.png\" width=\"500\">\n"
   ]
  },
  {
   "cell_type": "code",
   "execution_count": 1,
   "metadata": {},
   "outputs": [
    {
     "name": "stdout",
     "output_type": "stream",
     "text": [
      "apm 78.23.238.168_gk_model0 <br><pre> ----------------------------------------------------------------\n",
      " APMonitor, Version 1.0.1\n",
      " APMonitor Optimization Suite\n",
      " ----------------------------------------------------------------\n",
      " \n",
      " \n",
      " Warning: there is insufficient data in CSV file 78.23.238.168_gk_model0.csv\n",
      " \n",
      " --------- APM Model Size ------------\n",
      " Each time step contains\n",
      "   Objects      :            0\n",
      "   Constants    :            0\n",
      "   Variables    :            5\n",
      "   Intermediates:            0\n",
      "   Connections  :            0\n",
      "   Equations    :            4\n",
      "   Residuals    :            4\n",
      " \n",
      " Number of state variables:              5\n",
      " Number of total equations: -            3\n",
      " Number of slack variables: -            3\n",
      " ---------------------------------------\n",
      " Degrees of freedom       :             -1\n",
      " \n",
      " * Warning: DOF <= 0\n",
      " ----------------------------------------------\n",
      " Steady State Optimization with APOPT Solver\n",
      " ----------------------------------------------\n",
      "Iter:     1 I:  0 Tm:      0.00 NLPi:    3 Dpth:    0 Lvs:    3 Obj: -2.80E+00 Gap:       NaN\n",
      "Iter:     2 I: -1 Tm:      0.00 NLPi:    1 Dpth:    1 Lvs:    2 Obj: -2.80E+00 Gap:       NaN\n",
      "Iter:     3 I: -1 Tm:      0.00 NLPi:    1 Dpth:    1 Lvs:    1 Obj: -2.80E+00 Gap:       NaN\n",
      "Iter:     4 I:  0 Tm:      0.00 NLPi:    2 Dpth:    1 Lvs:    2 Obj: -2.00E+00 Gap:       NaN\n",
      "Iter:     5 I:  0 Tm:      0.00 NLPi:    2 Dpth:    2 Lvs:    3 Obj: -1.50E+00 Gap:       NaN\n",
      "--Integer Solution:  -2.00E+00 Lowest Leaf:  -2.00E+00 Gap:   0.00E+00\n",
      "Iter:     6 I:  0 Tm:      0.00 NLPi:    2 Dpth:    2 Lvs:    3 Obj: -2.00E+00 Gap:  0.00E+00\n",
      " Successful solution\n",
      " \n",
      " ---------------------------------------------------\n",
      " Solver         :  APOPT (v1.0)\n",
      " Solution time  :   1.340000002528541E-002 sec\n",
      " Objective      :   -2.00000000000000     \n",
      " Successful solution\n",
      " ---------------------------------------------------\n",
      " \n",
      "Objective:  2.0\n",
      "x:  2.0\n",
      "y:  2.0\n"
     ]
    }
   ],
   "source": [
    "from gekko import GEKKO\n",
    "m = GEKKO()\n",
    "x,y = m.Array(m.Var,2,integer=True,lb=0)\n",
    "m.Maximize(y)\n",
    "m.Equations([-x+y<=1,\n",
    "             3*x+2*y<=12,\n",
    "             2*x+3*y<=12])\n",
    "m.options.SOLVER = 1\n",
    "m.solve()\n",
    "print('Objective: ', -m.options.OBJFCNVAL)\n",
    "print('x: ', x.value[0])\n",
    "print('y: ', y.value[0])"
   ]
  },
  {
   "cell_type": "markdown",
   "metadata": {},
   "source": [
    "Nonlinear programming solvers (such as IPOPT) may not return an integer solution because they are designed for continuous variables. Mixed Integer Nonlinear Programming solvers (such as APOPT) are equipped to solve for binary or integer variables. It is selected with m.options.SOLVER=1. Select the appropriate solver option to either find an initial solution without integer variables or an integer solution. It is sometimes desirable to find a non-integer solution first because of the often significant reduction in computation time without the integer variables."
   ]
  },
  {
   "cell_type": "markdown",
   "metadata": {},
   "source": [
    "### Solution in matrix form\n",
    "\n",
    "Another representation is matrix form. Gekko function qobj defines a linear or quadratic objective and axb defines the $Ax \\le b$.\n"
   ]
  },
  {
   "cell_type": "code",
   "execution_count": 2,
   "metadata": {},
   "outputs": [
    {
     "ename": "Exception",
     "evalue": "The number of A matrix rows and b vector size must be the same",
     "output_type": "error",
     "traceback": [
      "\u001b[1;31m---------------------------------------------------------------------------\u001b[0m",
      "\u001b[1;31mException\u001b[0m                                 Traceback (most recent call last)",
      "\u001b[1;32m<ipython-input-2-70381dcc5c8e>\u001b[0m in \u001b[0;36m<module>\u001b[1;34m\u001b[0m\n\u001b[0;32m      6\u001b[0m \u001b[0mz\u001b[0m \u001b[1;33m=\u001b[0m \u001b[0mm\u001b[0m\u001b[1;33m.\u001b[0m\u001b[0mArray\u001b[0m\u001b[1;33m(\u001b[0m\u001b[0mm\u001b[0m\u001b[1;33m.\u001b[0m\u001b[0mVar\u001b[0m\u001b[1;33m,\u001b[0m\u001b[1;36m2\u001b[0m\u001b[1;33m,\u001b[0m\u001b[0minteger\u001b[0m\u001b[1;33m=\u001b[0m\u001b[1;32mTrue\u001b[0m\u001b[1;33m,\u001b[0m\u001b[0mlb\u001b[0m\u001b[1;33m=\u001b[0m\u001b[1;36m0\u001b[0m\u001b[1;33m)\u001b[0m\u001b[1;33m\u001b[0m\u001b[0m\n\u001b[0;32m      7\u001b[0m \u001b[0mm\u001b[0m\u001b[1;33m.\u001b[0m\u001b[0mqobj\u001b[0m\u001b[1;33m(\u001b[0m\u001b[0mc\u001b[0m\u001b[1;33m,\u001b[0m\u001b[0mx\u001b[0m\u001b[1;33m=\u001b[0m\u001b[0mz\u001b[0m\u001b[1;33m,\u001b[0m\u001b[0motype\u001b[0m\u001b[1;33m=\u001b[0m\u001b[1;34m'max'\u001b[0m\u001b[1;33m)\u001b[0m\u001b[1;33m\u001b[0m\u001b[0m\n\u001b[1;32m----> 8\u001b[1;33m \u001b[0mm\u001b[0m\u001b[1;33m.\u001b[0m\u001b[0maxb\u001b[0m\u001b[1;33m(\u001b[0m\u001b[0mA\u001b[0m\u001b[1;33m,\u001b[0m\u001b[0mb\u001b[0m\u001b[1;33m,\u001b[0m\u001b[0mx\u001b[0m\u001b[1;33m=\u001b[0m\u001b[0mz\u001b[0m\u001b[1;33m,\u001b[0m\u001b[0metype\u001b[0m\u001b[1;33m=\u001b[0m\u001b[1;34m'<='\u001b[0m\u001b[1;33m)\u001b[0m\u001b[1;33m\u001b[0m\u001b[0m\n\u001b[0m\u001b[0;32m      9\u001b[0m \u001b[0mm\u001b[0m\u001b[1;33m.\u001b[0m\u001b[0moptions\u001b[0m\u001b[1;33m.\u001b[0m\u001b[0mSOLVER\u001b[0m \u001b[1;33m=\u001b[0m \u001b[1;36m1\u001b[0m\u001b[1;33m\u001b[0m\u001b[0m\n\u001b[0;32m     10\u001b[0m \u001b[0mm\u001b[0m\u001b[1;33m.\u001b[0m\u001b[0msolve\u001b[0m\u001b[1;33m(\u001b[0m\u001b[1;33m)\u001b[0m\u001b[1;33m\u001b[0m\u001b[0m\n",
      "\u001b[1;32mC:\\Python36\\lib\\site-packages\\gekko\\gekko.py\u001b[0m in \u001b[0;36maxb\u001b[1;34m(self, A, b, x, etype, sparse)\u001b[0m\n\u001b[0;32m    583\u001b[0m             \u001b[0mc_max\u001b[0m \u001b[1;33m=\u001b[0m \u001b[0mnp\u001b[0m\u001b[1;33m.\u001b[0m\u001b[0msize\u001b[0m\u001b[1;33m(\u001b[0m\u001b[0mA\u001b[0m\u001b[1;33m,\u001b[0m\u001b[1;36m1\u001b[0m\u001b[1;33m)\u001b[0m\u001b[1;33m\u001b[0m\u001b[0m\n\u001b[0;32m    584\u001b[0m             \u001b[1;32mif\u001b[0m \u001b[1;33m(\u001b[0m\u001b[1;33m(\u001b[0m\u001b[1;32mnot\u001b[0m \u001b[0msparse\u001b[0m\u001b[1;33m)\u001b[0m \u001b[1;32mand\u001b[0m \u001b[0mnp\u001b[0m\u001b[1;33m.\u001b[0m\u001b[0msize\u001b[0m\u001b[1;33m(\u001b[0m\u001b[0mb\u001b[0m\u001b[1;33m)\u001b[0m\u001b[1;33m!=\u001b[0m\u001b[0mr_max\u001b[0m\u001b[1;33m)\u001b[0m\u001b[1;33m:\u001b[0m\u001b[1;33m\u001b[0m\u001b[0m\n\u001b[1;32m--> 585\u001b[1;33m                 \u001b[1;32mraise\u001b[0m \u001b[0mException\u001b[0m\u001b[1;33m(\u001b[0m\u001b[1;34m'The number of A matrix rows and b vector size must be the same'\u001b[0m\u001b[1;33m)\u001b[0m\u001b[1;33m\u001b[0m\u001b[0m\n\u001b[0m\u001b[0;32m    586\u001b[0m \u001b[1;33m\u001b[0m\u001b[0m\n\u001b[0;32m    587\u001b[0m         \u001b[1;32mif\u001b[0m \u001b[0mx\u001b[0m\u001b[1;33m==\u001b[0m\u001b[1;32mNone\u001b[0m\u001b[1;33m:\u001b[0m\u001b[1;33m\u001b[0m\u001b[0m\n",
      "\u001b[1;31mException\u001b[0m: The number of A matrix rows and b vector size must be the same"
     ]
    }
   ],
   "source": [
    "from gekko import GEKKO\n",
    "m = GEKKO(remote=False)\n",
    "c = [0,1]\n",
    "A = [[-1,1],[3,2],[2,3]]\n",
    "b = [1,12,12]\n",
    "z = m.Array(m.Var,2,integer=True,lb=0)\n",
    "m.qobj(c,x=z,otype='max')\n",
    "m.axb(A,b,x=z,etype='<=')\n",
    "m.options.SOLVER = 1\n",
    "m.solve()\n",
    "print('Objective: ', -m.options.OBJFCNVAL)\n",
    "print('x: ', z[0].value[0])\n",
    "print('y: ', z[1].value[0])"
   ]
  },
  {
   "cell_type": "markdown",
   "metadata": {},
   "source": [
    "### Solution in Sparse Matrix Form\n",
    "\n",
    "For large-scale problems, it is more efficient to solve the problem in sparse matrix form. The matrix arguments are passed to Gekko in coordinate (COO) list form. COO list form is [row indices],[values] for a vector and [row indices],[column indices],[values] for a matrix."
   ]
  },
  {
   "cell_type": "code",
   "execution_count": null,
   "metadata": {},
   "outputs": [],
   "source": [
    "from gekko import GEKKO\n",
    "m = GEKKO(remote=False)\n",
    "c = [[2],[1]]\n",
    "A = [[1,1,2,2,3,3],[1,2,1,2,1,2],[-1,1,3,2,2,3]]\n",
    "b = [[1,2,3],[1,12,12]]\n",
    "z = m.Array(m.Var,2,integer=True,lb=0)\n",
    "m.qobj(c,x=z,otype='max',sparse=True)\n",
    "m.axb(A,b,x=z,etype='<=',sparse=True)\n",
    "m.options.SOLVER = 1\n",
    "m.solve()\n",
    "print('Objective: ', -m.options.OBJFCNVAL)\n",
    "print('x: ', z[0].value[0])\n",
    "print('y: ', z[1].value[0])"
   ]
  }
 ],
 "metadata": {
  "interpreter": {
   "hash": "e7c37ba80a6e54a3d63188245ab5de6a3e0d381993bcb1990a7020536fc2299e"
  },
  "kernelspec": {
   "display_name": "Python 3.6.4 64-bit",
   "language": "python",
   "name": "python3"
  },
  "language_info": {
   "codemirror_mode": {
    "name": "ipython",
    "version": 3
   },
   "file_extension": ".py",
   "mimetype": "text/x-python",
   "name": "python",
   "nbconvert_exporter": "python",
   "pygments_lexer": "ipython3",
   "version": "3.6.4"
  },
  "orig_nbformat": 4
 },
 "nbformat": 4,
 "nbformat_minor": 2
}
