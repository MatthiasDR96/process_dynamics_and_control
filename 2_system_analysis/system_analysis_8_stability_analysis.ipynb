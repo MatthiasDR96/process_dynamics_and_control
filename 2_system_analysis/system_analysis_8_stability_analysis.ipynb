{
 "cells": [
  {
   "cell_type": "markdown",
   "metadata": {},
   "source": [
    "# Stability Analysis with Root Locus Plot\n",
    "\n",
    "The purpose of controller stability analysis is to determine the range of controller gains between lower $K_{cL}$ and upper $K_{cU}$ limits that lead to a stable controller.\n",
    "\n",
    "$$K_{cL} \\le K_c \\le K_{cU}$$\n",
    "\n",
    "The principles of stability analysis presented here are general for any linear time-invariant system whether it is for controller design or for analysis of system dynamics. Several characteristics of a system in the Laplace domain can be deduced without transforming a system signal or transfer function back into the time domain. Some of the analysis relies on the roots of the transfer function denominator, also known as poles. The roots of the numerator, also known as zeros, do not affect the stability directly but can potentially cancel an unstable pole to create an overall stable system.\n",
    "\n",
    "### Converge or Diverge\n",
    "\n",
    "A first point of analysis is whether the system converges or diverges. This is determined by analyzing the roots of the denominator of the transfer function. If any of the real parts of the roots of the denominator are positive then the system is unstable. A simple rule to determine whether there are positive real roots is to examine the signs of the polynomial. If there are mixed signs (+ or -) then the system will be unstable because there is at least one positive real root. Before modern computational methods, there were several methods devised to determine the stability of a system. One such approach is the Routh-Hurwitz stability criterion. The leading left edge of a table determines whether the system is stable for or any nth-degree polynomial\n",
    "\n",
    "$$a_n s^n + a_{n-1} s^{n-1} + \\cdots + a_1 s + a_0$$\n",
    "\n",
    "The coefficients of the polynomial are placed into tabular form and additional coefficients b and c are computed from higher rows."
   ]
  }
 ],
 "metadata": {
  "kernelspec": {
   "display_name": "Python 3",
   "language": "python",
   "name": "python3"
  },
  "language_info": {
   "codemirror_mode": {
    "name": "ipython",
    "version": 3
   },
   "file_extension": ".py",
   "mimetype": "text/x-python",
   "name": "python",
   "nbconvert_exporter": "python",
   "pygments_lexer": "ipython3",
   "version": "3.6.4"
  }
 },
 "nbformat": 4,
 "nbformat_minor": 5
}
