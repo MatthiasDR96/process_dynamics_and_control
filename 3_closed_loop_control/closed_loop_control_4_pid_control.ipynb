{
 "cells": [
  {
   "cell_type": "markdown",
   "metadata": {},
   "source": [
    "# Proportional Integral Derivative (PID)\n",
    "\n",
    "Proportional Integral Derivative (PID) control automatically adjusts a control output based on the difference between a set point (SP) and a measured process variable (PV). The value of the controller output $u(t)$ is transferred as the system input.\n",
    "\n",
    "$$e(t) = SP-PV$$\n",
    "\n",
    "$$u(t) = u_{bias} + K_c \\, e(t) + \\frac{K_c}{\\tau_I}\\int_0^t e(t)dt - K_c \\tau_D \\frac{d(PV)}{dt}$$\n",
    "\n",
    "The $u_{bias}$ term is a constant that is typically set to the value of $u(t)$ when the controller is first switched from manual to automatic mode. This gives \"bumpless\" transfer if the error is zero when the controller is turned on. The three tuning values for a PID controller are the controller gain, $K_{c}$, the integral time constant $\\tau_{I}$, and the derivative time constant $\\tau_{D}$. The value of $K_{c}$ is a multiplier on the proportional error and integral term and a higher value makes the controller more aggressive at responding to errors away from the set point. The integral time constant $\\tau_{c}$ (also known as integral reset time) must be positive and has units of time. As \n",
    "τ\n",
    "I\n",
    " gets smaller, the integral term is larger because $\\tau_{D}$ is in the denominator. Derivative time constant $\\tau_{D}$ also has units of time and must be positive. The set point (SP) is the target value and process variable (PV) is the measured value that may deviate from the desired value. The error from the set point is the difference between the SP and PV and is defined as."
   ]
  },
  {
   "cell_type": "markdown",
   "metadata": {},
   "source": [
    "### Overview of PID Control\n",
    "\n",
    "PI or PID controller is best suited for non-integrating processes, meaning any process that eventually returns to the same output given the same set of inputs and disturbances. A P-only controller is best suited to integrating processes. Integral action is used to remove offset and can be thought of as an adjustable $u_{bias}$."
   ]
  },
  {
   "cell_type": "markdown",
   "metadata": {},
   "source": [
    "### Discrete PID Controller\n",
    "\n",
    "Digital controllers are implemented with discrete sampling periods and a discrete form of the PID equation is needed to approximate the integral of the error and the derivative. This modification replaces the continuous form of the integral with a summation of the error and uses $\\Delta t$ as the time between sampling instances and $n_{t}$ as the number of sampling instances. It also replaces the derivative with either a filtered version of the derivative or another method to approximate the instantaneous slope of the (PV).\n",
    "\n",
    "$$u(t) = u_{bias} + K_c \\, e(t) + \\frac{K_c}{\\tau_I}\\sum_{i=1}^{n_t} e_i(t)\\Delta t  - K_c \\tau_D \\frac{PV_{n_t}-PV_{n_t-1}}{\\Delta t}$$\n",
    "\n",
    "The same tuning correlations are used for both the continuous and discrete forms of the PID controller."
   ]
  }
 ],
 "metadata": {
  "language_info": {
   "name": "python"
  },
  "orig_nbformat": 4
 },
 "nbformat": 4,
 "nbformat_minor": 2
}
