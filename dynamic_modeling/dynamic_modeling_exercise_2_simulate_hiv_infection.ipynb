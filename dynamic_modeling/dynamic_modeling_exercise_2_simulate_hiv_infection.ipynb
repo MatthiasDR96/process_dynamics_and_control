{
 "cells": [
  {
   "cell_type": "markdown",
   "metadata": {},
   "source": [
    "# Simulate HIV Infection\n",
    "\n",
    "The human immunodeficiency virus (HIV) infection spreads and can develop into acquired immunodeficiency syndrome (AIDS). AIDS can lead to immune system failure and eventual inability to defend the body against infection or cancer. Without treatment with antiretroviral drugs, survival time after infection with HIV is about 9 to 11 years, depending on a number of factors. Antiretroviral drugs such as TDF (tenofovir), either 3TC (lamivudine) or FTC (emtricitabine), and EFV (efavirenz) are recommended by the World Health Organization as soon as HIV infection is diagnosed. This simulation predicts the spread of HIV infection in a body with an initial infection.\n",
    "\n",
    "The spread of HIV in a patient is approximated with balance equations on (H)ealthy, (I)nfected, and (V)irus population counts.\n",
    "\n",
    "Initial Conditions"
   ]
  },
  {
   "cell_type": "markdown",
   "metadata": {},
   "source": [
    "* H(0) = healthy cells = 1,000,000\n",
    "* I(0) = infected cells = 0\n",
    "* V(0) = virus = 100"
   ]
  },
  {
   "cell_type": "markdown",
   "metadata": {},
   "source": [
    "Equations\n",
    "\n",
    "The equations are transient balances on the number of healthy cells $(H)$, infected cells $(I)$, and virus count $(V)$. Terms on the right side with a positive sign (blue) increase that corresponding number of cells or virus. Likewise, terms with a negative sign (red) decrease the number of cells or virus.\n",
    "\n",
    "$$\\frac{dH(t)}{dt} = \\color{blue}{kr_1} \\color{red}{- kr_2 H(t) - kr_3 H(t) \\; V(t)}$$\n",
    "\n",
    "$$\\frac{dI(t)}{dt} = \\color{blue}{kr_3 H(t) \\; V(t)} \\color{red}{- kr_4 I(t)}$$\n",
    "\n",
    "$$\\frac{dV(t)}{dt} = \\color{red}{-kr_3 H(t) \\; V(t) - kr_5 V(t)} \\color{blue}{+ kr_6 I(t)}$$\n",
    "\n",
    "There are six parameters $(kr_{1..6})$ in the model that provide the rates of cell death, infection spread, virus replication, and other processes that determine the spread of HIV in the body.\n",
    "\n",
    "Parameters"
   ]
  },
  {
   "cell_type": "markdown",
   "metadata": {},
   "source": [
    "* $kr_{1} = 1e5$ = new healthy cells per year\n",
    "* $kr_{2} = 0.1$ = death rate of healthy cells\n",
    "* $kr_{3} = 2e-7$ = healthy cells converting to infected cells\n",
    "* $kr_{4} = 0.5$ = death rate of infected cells\n",
    "* $kr_{5} = 5$ = death rate of virus\n",
    "* $kr_{6} = 100$ = production of virus by infected cells"
   ]
  },
  {
   "cell_type": "markdown",
   "metadata": {},
   "source": [
    "Simulate the healthy, infected, and virus count over the course of 15 years if no treatment such as an anti-retroviral is taken. \n",
    "\n",
    "![HIV Simulation](pictures/hiv_simulation.png)"
   ]
  },
  {
   "cell_type": "markdown",
   "metadata": {},
   "source": [
    "The sketch also includes patient data. The final report should include:\n",
    "\n",
    "* A semi-log-y plot that shows the progress of infection such as the sketch above.\n",
    "* Discuss what terms you would adjust to match HIV lab data that measures the virus in a patient.\n",
    "* Suppose that a new antiretroviral drug is evaluated in clinical trials. Virus count data is collected over many years to control the HIV infection. Discuss what terms * could be added to the differential equations to include the effect of an antiretroviral drug."
   ]
  },
  {
   "cell_type": "code",
   "execution_count": null,
   "metadata": {},
   "outputs": [],
   "source": [
    "# Import modules"
   ]
  }
 ],
 "metadata": {
  "interpreter": {
   "hash": "e7c37ba80a6e54a3d63188245ab5de6a3e0d381993bcb1990a7020536fc2299e"
  },
  "kernelspec": {
   "display_name": "Python 3.6.4 64-bit",
   "language": "python",
   "name": "python3"
  },
  "language_info": {
   "codemirror_mode": {
    "name": "ipython",
    "version": 3
   },
   "file_extension": ".py",
   "mimetype": "text/x-python",
   "name": "python",
   "nbconvert_exporter": "python",
   "pygments_lexer": "ipython3",
   "version": "3.6.4"
  },
  "orig_nbformat": 4
 },
 "nbformat": 4,
 "nbformat_minor": 2
}
