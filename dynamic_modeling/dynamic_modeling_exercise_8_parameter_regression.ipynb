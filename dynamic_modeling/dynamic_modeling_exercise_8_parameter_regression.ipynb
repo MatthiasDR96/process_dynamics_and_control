{
 "cells": [
  {
   "cell_type": "markdown",
   "metadata": {},
   "source": [
    "# Exercise 8 - Parameter Regression\n",
    "The temperature of a subsea pipeline is measured as hot oil reservoir fluids (water mixed with hydrocarbon liquid and gas) begins flowing. The temperature transmitter (TT) is placed near the well-head at the Flowline End Termination (FLET).\n",
    "\n",
    "The temperature of the fluid is important to monitor because of the potential for methane hydrates (water and methane) that have the potential to develop under high pressure and cold temperatures. Methanol is added to the fluid to prevent hydrate formation and buildup in the pipeline. If hydrates form and conglomerate, it could lead to pipeline plugging and costly remediation efforts or pipeline abandonment. The following data set is a measurement of fluid temperature during startup of well production. The temperature begins at subsea temperature of 3.6 Celsius and rises over many hours to the well fluid temperature. There is a link to the raw data below with a Python script that automatically downloads the data file and creates plots of the data.\n",
    "\n",
    "Use the data to develop a first-order plus time delay model with adjustable parameters \n",
    "K\n",
    "p\n",
    ",\n",
    "τ\n",
    "p\n",
    ",\n",
    "θ\n",
    "p\n",
    ". Use a graphical method and optimization method to obtain the unknown parameters and include the data and the two regression results on a single graph."
   ]
  },
  {
   "cell_type": "code",
   "execution_count": null,
   "metadata": {},
   "outputs": [],
   "source": [
    "import pandas as pd\n",
    "import matplotlib.pyplot as plt\n",
    "\n",
    "# pipeline data URL (don't need wget)\n",
    "url = 'https://apmonitor.com/pdc/uploads/Main/pipeline_data.txt'\n",
    "\n",
    "# import data with pandas\n",
    "data = pd.read_csv(url)\n",
    "time = 'Time (min)'\n",
    "valve = 'Valve Position (% open)'\n",
    "TC = 'Temperature (degC)'\n",
    "\n",
    "# print temperature values\n",
    "print(TC)\n",
    "print(data[TC][0:5])\n",
    "print('min: '+str(min(data[TC])))\n",
    "print('max: '+str(max(data[TC])))\n",
    "\n",
    "# plot data with pyplot\n",
    "plt.figure()\n",
    "plt.subplot(2,1,1)\n",
    "plt.plot(data[time]/60.0,data[valve],'b--')\n",
    "plt.ylabel(valve)\n",
    "\n",
    "plt.subplot(2,1,2)\n",
    "plt.plot(data[time]/60.0,data[TC],'r-')\n",
    "plt.ylabel(TC)\n",
    "plt.xlabel('Time (hr)')\n",
    "plt.show()"
   ]
  },
  {
   "cell_type": "code",
   "execution_count": null,
   "metadata": {},
   "outputs": [],
   "source": []
  }
 ],
 "metadata": {
  "language_info": {
   "name": "python"
  },
  "orig_nbformat": 4
 },
 "nbformat": 4,
 "nbformat_minor": 2
}
