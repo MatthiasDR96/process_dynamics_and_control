{
 "cells": [
  {
   "cell_type": "markdown",
   "metadata": {},
   "source": [
    "# Parameter Regression\n",
    "The temperature of a subsea pipeline is measured as hot oil reservoir fluids (water mixed with hydrocarbon liquid and gas) begins flowing. The temperature transmitter (TT) is placed near the well-head at the Flowline End Termination (FLET).\n",
    "\n",
    "<img src=\"../pictures/flet_pipeline.png\" width=\"500\">\n",
    "\n",
    "The temperature of the fluid is important to monitor because of the potential for methane hydrates (water and methane) that have the potential to develop under high pressure and cold temperatures. Methanol is added to the fluid to prevent hydrate formation and buildup in the pipeline. If hydrates form and conglomerate, it could lead to pipeline plugging and costly remediation efforts or pipeline abandonment. The following data set is a measurement of fluid temperature during startup of well production. The temperature begins at subsea temperature of 3.6 Celsius and rises over many hours to the well fluid temperature. There is a link to the raw data below with a Python script that automatically downloads the data file and creates plots of the data.\n",
    "\n",
    "Use the data to develop a first-order plus time delay model with adjustable parameters $K_p, \\tau_p, \\theta_p$. Use a graphical method and optimization method to obtain the unknown parameters and include the data and the two regression results on a single graph."
   ]
  },
  {
   "cell_type": "code",
   "execution_count": 1,
   "metadata": {},
   "outputs": [
    {
     "name": "stdout",
     "output_type": "stream",
     "text": [
      "Temperature (degC)\n",
      "0    3.6\n",
      "1    3.7\n",
      "2    3.6\n",
      "3    3.7\n",
      "4    3.6\n",
      "Name: Temperature (degC), dtype: float64\n",
      "min: 3.5\n",
      "max: 46.1\n"
     ]
    },
    {
     "name": "stderr",
     "output_type": "stream",
     "text": [
      "C:\\Python36\\lib\\site-packages\\matplotlib\\cbook\\__init__.py:1402: FutureWarning: Support for multi-dimensional indexing (e.g. `obj[:, None]`) is deprecated and will be removed in a future version.  Convert to a numpy array before indexing instead.\n",
      "  x[:, None]\n",
      "C:\\Python36\\lib\\site-packages\\matplotlib\\axes\\_base.py:276: FutureWarning: Support for multi-dimensional indexing (e.g. `obj[:, None]`) is deprecated and will be removed in a future version.  Convert to a numpy array before indexing instead.\n",
      "  x = x[:, np.newaxis]\n",
      "C:\\Python36\\lib\\site-packages\\matplotlib\\axes\\_base.py:278: FutureWarning: Support for multi-dimensional indexing (e.g. `obj[:, None]`) is deprecated and will be removed in a future version.  Convert to a numpy array before indexing instead.\n",
      "  y = y[:, np.newaxis]\n"
     ]
    },
    {
     "data": {
      "image/png": "[encoded data removed]",
      "text/plain": [
       "<Figure size 432x288 with 2 Axes>"
      ]
     },
     "metadata": {
      "needs_background": "light"
     },
     "output_type": "display_data"
    }
   ],
   "source": [
    "import pandas as pd\n",
    "import matplotlib.pyplot as plt\n",
    "\n",
    "# pipeline data URL (don't need wget)\n",
    "url = 'https://apmonitor.com/pdc/uploads/Main/pipeline_data.txt'\n",
    "\n",
    "# import data with pandas\n",
    "data = pd.read_csv(url)\n",
    "time = 'Time (min)'\n",
    "valve = 'Valve Position (% open)'\n",
    "TC = 'Temperature (degC)'\n",
    "\n",
    "# print temperature values\n",
    "print(TC)\n",
    "print(data[TC][0:5])\n",
    "print('min: '+str(min(data[TC])))\n",
    "print('max: '+str(max(data[TC])))\n",
    "\n",
    "# plot data with pyplot\n",
    "plt.figure()\n",
    "plt.subplot(2,1,1)\n",
    "plt.plot(data[time]/60.0,data[valve],'b--')\n",
    "plt.ylabel(valve)\n",
    "\n",
    "plt.subplot(2,1,2)\n",
    "plt.plot(data[time]/60.0,data[TC],'r-')\n",
    "plt.ylabel(TC)\n",
    "plt.xlabel('Time (hr)')\n",
    "plt.show()"
   ]
  },
  {
   "cell_type": "code",
   "execution_count": null,
   "metadata": {},
   "outputs": [],
   "source": []
  }
 ],
 "metadata": {
  "interpreter": {
   "hash": "e7c37ba80a6e54a3d63188245ab5de6a3e0d381993bcb1990a7020536fc2299e"
  },
  "kernelspec": {
   "display_name": "Python 3.6.4 64-bit",
   "language": "python",
   "name": "python3"
  },
  "language_info": {
   "codemirror_mode": {
    "name": "ipython",
    "version": 3
   },
   "file_extension": ".py",
   "mimetype": "text/x-python",
   "name": "python",
   "nbconvert_exporter": "python",
   "pygments_lexer": "ipython3",
   "version": "3.6.4"
  },
  "orig_nbformat": 4
 },
 "nbformat": 4,
 "nbformat_minor": 2
}
